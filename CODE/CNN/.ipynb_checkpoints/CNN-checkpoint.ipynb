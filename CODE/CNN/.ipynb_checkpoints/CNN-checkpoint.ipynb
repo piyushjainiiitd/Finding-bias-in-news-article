{
 "cells": [
  {
   "cell_type": "code",
   "execution_count": 1,
   "metadata": {},
   "outputs": [
    {
     "name": "stderr",
     "output_type": "stream",
     "text": [
      "Using TensorFlow backend.\n"
     ]
    }
   ],
   "source": [
    "#Import library in python\n",
    "from Preprocessing import preprocess\n",
    "import glob\n",
    "from gensim.models.doc2vec import Doc2Vec,TaggedDocument\n",
    "import csv\n",
    "from keras.models import Sequential,Model\n",
    "from keras import layers\n",
    "from sklearn.model_selection import train_test_split\n",
    "from keras.layers import Input,Dense,Conv1D,Activation,BatchNormalization,GlobalMaxPooling1D,Concatenate,Flatten,Dropout,Embedding\n",
    "import numpy as np\n",
    "from sklearn.feature_extraction.text import TfidfVectorizer\n",
    "from sklearn.preprocessing import LabelEncoder\n",
    "from keras.utils import np_utils\n",
    "from keras.preprocessing.text import Tokenizer\n",
    "from keras.preprocessing.sequence import pad_sequences\n",
    "from keras import optimizers\n",
    "from sklearn.metrics import precision_score,recall_score,f1_score,confusion_matrix,accuracy_score\n",
    "import plotly.graph_objects as go\n",
    "from keras.callbacks import ModelCheckpoint\n",
    "from sklearn.model_selection import StratifiedKFold\n",
    "import matplotlib.pyplot as plt"
   ]
  },
  {
   "cell_type": "code",
   "execution_count": 2,
   "metadata": {},
   "outputs": [],
   "source": [
    "# Import preprocess files\n",
    "preprocessing = preprocess()"
   ]
  },
  {
   "cell_type": "code",
   "execution_count": 3,
   "metadata": {},
   "outputs": [],
   "source": [
    "# Preprocess data to generate the data\n",
    "def generateWordList(fileData): # Generate list of preprocessed words from file\n",
    "    finalSet = preprocessing.checkEmail(fileData) # Check emails in the file and add them to wordlist\n",
    "    fileData = preprocessing.removeEmail(fileData) # Remove emails \n",
    "    finalSet = finalSet + preprocessing.checkWebsite(fileData) # Check for website and decimal number and add them to wordlist\n",
    "    fileData = preprocessing.removeWebsite(fileData) # Remove webiste and decimal numbers \n",
    "    fileData = preprocessing.contractionsExpand(fileData) # Expand the contracted word\n",
    "    fileData = preprocessing.caseChange(fileData) # Change case of file to lower case\n",
    "    fileData = preprocessing.removePunctuations(fileData) # Remove punctutation \n",
    "    wordList = preprocessing.wordSeperator(fileData) # Seperate words by space\n",
    "    for word in wordList: # For each words in word list\n",
    "        if word.isdecimal(): # If number is present expand it \n",
    "            finalSet += preprocessing.changeNumber(word) # Generate number form of the number and add it to final list \n",
    "        else: \n",
    "            finalSet.append(preprocessing.lemmatizeWord(word)) # If it is word apply lemmatization\n",
    "    return finalSet # Return the fnal word list"
   ]
  },
  {
   "cell_type": "code",
   "execution_count": 4,
   "metadata": {},
   "outputs": [],
   "source": [
    "fileData = open(\"Annotated-Data.txt\",encoding=\"utf8\").read() # Load annotation files\n",
    "count = 0 # Count the file -- not used now\n",
    "documents = [] # store the documents\n",
    "y = [] # Load the answer vector\n",
    "for i in fileData.split(\"\\n\"): # Split data from the annotation file\n",
    "    splitData = i.split(\"\\t\") # Split annotation and article text\n",
    "    if len(splitData)>1: # If annotation file len > 1 that is some value is presents\n",
    "        y.append(int(splitData[0])) # Load final annotation \n",
    "        documents.append(\" \".join(generateWordList(\" \".join(splitData[1:])))) # Load preprocessed annotation\n",
    "        count += 1"
   ]
  },
  {
   "cell_type": "code",
   "execution_count": 5,
   "metadata": {},
   "outputs": [],
   "source": [
    "# \"\"\"***Semeval Data***\"\"\"\n",
    "# fileData = open(\"SemEval-2019.txt\",encoding=\"utf8\").read()\n",
    "# count = 0 \n",
    "# documents = []\n",
    "# y = []\n",
    "# for i in fileData.split(\"\\n\"):\n",
    "#     splitData = i.split(\" \")\n",
    "#     if len(splitData)>1:\n",
    "#         y.append(int(splitData[1]))\n",
    "#         documents.append(\" \".join(generateWordList(\" \".join(splitData[2:]))))\n",
    "#         count += 1"
   ]
  },
  {
   "cell_type": "code",
   "execution_count": 6,
   "metadata": {},
   "outputs": [],
   "source": [
    "max_features = 5000\n",
    "maxlen = 1000\n",
    "batch_size = 32\n",
    "embedding_dims = 500\n",
    "filters = 250\n",
    "kernel_size = [2,3,4,5,6]\n",
    "hidden_dims = 250\n",
    "epochs = 20\n",
    "classes = 3"
   ]
  },
  {
   "cell_type": "code",
   "execution_count": 7,
   "metadata": {},
   "outputs": [],
   "source": [
    "oldy = y.copy()\n",
    "encoder = LabelEncoder() # Create a label encoder\n",
    "encoder.fit(y) # Fit label encoder\n",
    "encodedY = encoder.transform(y) # Transform label \n",
    "y = np_utils.to_categorical(encodedY) # Get categorial label here 1X3 as 3 labels given"
   ]
  },
  {
   "cell_type": "code",
   "execution_count": 29,
   "metadata": {},
   "outputs": [],
   "source": [
    "x_train, x_test, y_train, y_test = train_test_split(documents,y, test_size=0.20) # Split train and test data "
   ]
  },
  {
   "cell_type": "code",
   "execution_count": 30,
   "metadata": {},
   "outputs": [],
   "source": [
    "tokenizer = Tokenizer(num_words=max_features) # Create tokenizer \n",
    "tokenizer.fit_on_texts(x_train) # Fit train data to tokenizer\n",
    "x_train = tokenizer.texts_to_sequences(x_train) # train_x data with tokeinzer output\n",
    "x_test = tokenizer.texts_to_sequences(x_test) # test_x data with tokeinzer output\n",
    "x_train = pad_sequences(x_train, padding='post', maxlen=maxlen) # Pad sequence so that length of document remains same -- remove extra data\n",
    "x_test = pad_sequences(x_test, padding='post', maxlen=maxlen)  # Pad sequence so that length of document remains same -- remove extra data"
   ]
  },
  {
   "cell_type": "code",
   "execution_count": 31,
   "metadata": {},
   "outputs": [],
   "source": [
    "inputLayer = Input(shape=(maxlen,)) # Create input layer\n",
    "embedding = Embedding(max_features,embedding_dims,input_length=maxlen)(inputLayer) # Create embedding layer to provide embedding to text\n",
    "dropoutLayer = Dropout(0.2)(embedding) # Add dropout layer\n",
    "\n",
    "convolution1 = Conv1D(filters,kernel_size[0],padding='valid',activation='relu',strides=1)(dropoutLayer) # Add convolution layer 1\n",
    "branchNormaltize1 = BatchNormalization(momentum=0.5)(convolution1) # Batch normalize to provide better accuracy and fast processing\n",
    "activation1 = Activation('relu')(branchNormaltize1) # Add relu activation layer to convolution 1\n",
    "maxPooling1 = GlobalMaxPooling1D()(activation1) # Apply max polling to layer 1\n",
    "\n",
    "convolution2 = Conv1D(filters,kernel_size[1],padding='valid',activation='relu',strides=1)(dropoutLayer) # Add convolution layer 2\n",
    "branchNormaltize2 = BatchNormalization(momentum=0.5)(convolution2) # Batch normalize to provide better accuracy and fast processing\n",
    "activation2 = Activation('relu')(branchNormaltize2) # Add relu activation layer to convolution 2\n",
    "maxPooling2 = GlobalMaxPooling1D()(activation2) # Apply max polling to layer 2\n",
    "\n",
    "convolution3 = Conv1D(filters,kernel_size[2],padding='valid',activation='relu',strides=1)(dropoutLayer) # Add convolution layer 3\n",
    "branchNormaltize3 = BatchNormalization(momentum=0.5)(convolution3) # Batch normalize to provide better accuracy and fast processing\n",
    "activation3 = Activation('relu')(branchNormaltize3) # Add relu activation layer to convolution 3\n",
    "maxPooling3 = GlobalMaxPooling1D()(activation3) # Apply max polling to layer 3\n",
    "\n",
    "convolution4 = Conv1D(filters,kernel_size[3],padding='valid',activation='relu',strides=1)(dropoutLayer) # Add convolution layer 4\n",
    "branchNormaltize4 = BatchNormalization(momentum=0.5)(convolution4) # Batch normalize to provide better accuracy and fast processing\n",
    "activation4 = Activation('relu')(branchNormaltize4) # Add relu activation layer to convolution 4\n",
    "maxPooling4 = GlobalMaxPooling1D()(activation4) # Apply max polling to layer 4\n",
    "\n",
    "convolution5 = Conv1D(filters,kernel_size[4],padding='valid',activation='relu',strides=1)(dropoutLayer) # Add convolution layer 5\n",
    "branchNormaltize5 = BatchNormalization(momentum=0.5)(convolution5) # Batch normalize to provide better accuracy and fast processing\n",
    "activation5 = Activation('relu')(branchNormaltize5) # Add relu activation layer to convolution 5\n",
    "maxPooling5 = GlobalMaxPooling1D()(activation5) # Apply max polling to layer 5\n",
    "\n",
    "concatenationLayer = Concatenate()([maxPooling1, maxPooling2, maxPooling3,maxPooling4,maxPooling5]) # Concatenate layers\n",
    "\n",
    "dense1 = Dense(hidden_dims)(concatenationLayer) # Apply dense layer 1\n",
    "dropoutLayer2 = Dropout(0.2)(dense1) # Add dropout layer \n",
    "activationRelu = Activation('relu')(dropoutLayer2) # Add relu activation layer\n",
    "\n",
    "dense2 = Dense(classes)(activationRelu) # Apply dense layer 1\n",
    "activationSoftmax = Activation('softmax')(dense2) # Add softmax layer which will be the final output\n",
    "\n",
    "checkpoint = ModelCheckpoint(\"Model.hdf5\", monitor='val_accuracy', verbose=1, save_best_only=True, mode='max')\n",
    "\n",
    "model = Model(inputs=inputLayer, outputs=activationSoftmax) # Add input and output layer to create the network\n",
    "model.compile(loss='categorical_crossentropy',optimizer='adam',metrics=['accuracy']) # Compute with adamic adar and categorial cross entropy"
   ]
  },
  {
   "cell_type": "code",
   "execution_count": 32,
   "metadata": {},
   "outputs": [
    {
     "name": "stderr",
     "output_type": "stream",
     "text": [
      "C:\\Users\\ASUS\\AppData\\Roaming\\Python\\Python37\\site-packages\\tensorflow_core\\python\\framework\\indexed_slices.py:433: UserWarning:\n",
      "\n",
      "Converting sparse IndexedSlices to a dense Tensor of unknown shape. This may consume a large amount of memory.\n",
      "\n"
     ]
    },
    {
     "name": "stdout",
     "output_type": "stream",
     "text": [
      "Train on 904 samples, validate on 1 samples\n",
      "Epoch 1/10\n",
      "904/904 [==============================] - ETA: 4:34 - loss: 1.3874 - accuracy: 0.53 - ETA: 4:04 - loss: 10.8904 - accuracy: 0.343 - ETA: 3:45 - loss: 10.3411 - accuracy: 0.375 - ETA: 3:32 - loss: 9.7001 - accuracy: 0.375 - ETA: 3:24 - loss: 8.2092 - accuracy: 0.38 - ETA: 3:15 - loss: 7.9661 - accuracy: 0.38 - ETA: 3:06 - loss: 7.8081 - accuracy: 0.36 - ETA: 2:57 - loss: 7.4749 - accuracy: 0.35 - ETA: 2:47 - loss: 6.8756 - accuracy: 0.34 - ETA: 2:37 - loss: 6.3645 - accuracy: 0.34 - ETA: 2:28 - loss: 6.0683 - accuracy: 0.34 - ETA: 2:19 - loss: 5.8382 - accuracy: 0.34 - ETA: 2:10 - loss: 5.5884 - accuracy: 0.34 - ETA: 2:02 - loss: 5.3996 - accuracy: 0.35 - ETA: 1:53 - loss: 5.2984 - accuracy: 0.34 - ETA: 1:44 - loss: 5.1319 - accuracy: 0.34 - ETA: 1:35 - loss: 4.9400 - accuracy: 0.34 - ETA: 1:27 - loss: 4.7328 - accuracy: 0.35 - ETA: 1:18 - loss: 4.5459 - accuracy: 0.36 - ETA: 1:10 - loss: 4.4523 - accuracy: 0.35 - ETA: 1:01 - loss: 4.3475 - accuracy: 0.35 - ETA: 52s - loss: 4.2677 - accuracy: 0.3509 - ETA: 44s - loss: 4.1449 - accuracy: 0.351 - ETA: 35s - loss: 4.0237 - accuracy: 0.359 - ETA: 27s - loss: 3.9251 - accuracy: 0.363 - ETA: 19s - loss: 3.8376 - accuracy: 0.365 - ETA: 10s - loss: 3.7632 - accuracy: 0.363 - ETA: 2s - loss: 3.6818 - accuracy: 0.361 - 239s 264ms/step - loss: 3.6595 - accuracy: 0.3606 - val_loss: 1.1483 - val_accuracy: 0.0000e+00\n",
      "\n",
      "Epoch 00001: saving model to Model.hdf5\n",
      "Epoch 2/10\n",
      "904/904 [==============================] - ETA: 3:43 - loss: 1.0319 - accuracy: 0.59 - ETA: 3:36 - loss: 1.1822 - accuracy: 0.51 - ETA: 3:28 - loss: 1.2199 - accuracy: 0.50 - ETA: 3:21 - loss: 1.1363 - accuracy: 0.51 - ETA: 3:14 - loss: 1.1358 - accuracy: 0.51 - ETA: 3:07 - loss: 1.1623 - accuracy: 0.51 - ETA: 2:59 - loss: 1.1316 - accuracy: 0.51 - ETA: 2:52 - loss: 1.1182 - accuracy: 0.52 - ETA: 2:43 - loss: 1.1069 - accuracy: 0.52 - ETA: 2:34 - loss: 1.0797 - accuracy: 0.53 - ETA: 2:25 - loss: 1.0891 - accuracy: 0.51 - ETA: 2:17 - loss: 1.0647 - accuracy: 0.52 - ETA: 2:08 - loss: 1.0482 - accuracy: 0.52 - ETA: 1:59 - loss: 1.0429 - accuracy: 0.52 - ETA: 1:51 - loss: 1.0257 - accuracy: 0.53 - ETA: 1:43 - loss: 1.0095 - accuracy: 0.54 - ETA: 1:34 - loss: 0.9959 - accuracy: 0.55 - ETA: 1:26 - loss: 0.9848 - accuracy: 0.56 - ETA: 1:17 - loss: 0.9819 - accuracy: 0.56 - ETA: 1:09 - loss: 0.9727 - accuracy: 0.56 - ETA: 1:00 - loss: 0.9669 - accuracy: 0.56 - ETA: 52s - loss: 0.9619 - accuracy: 0.5739 - ETA: 44s - loss: 0.9581 - accuracy: 0.574 - ETA: 35s - loss: 0.9475 - accuracy: 0.578 - ETA: 27s - loss: 0.9363 - accuracy: 0.583 - ETA: 19s - loss: 0.9367 - accuracy: 0.582 - ETA: 10s - loss: 0.9266 - accuracy: 0.589 - ETA: 2s - loss: 0.9247 - accuracy: 0.590 - 245s 270ms/step - loss: 0.9246 - accuracy: 0.5896 - val_loss: 0.5630 - val_accuracy: 1.0000\n",
      "\n",
      "Epoch 00002: saving model to Model.hdf5\n",
      "Epoch 3/10\n",
      "904/904 [==============================] - ETA: 4:37 - loss: 0.4709 - accuracy: 0.87 - ETA: 4:26 - loss: 0.4763 - accuracy: 0.84 - ETA: 4:17 - loss: 0.5150 - accuracy: 0.80 - ETA: 4:07 - loss: 0.5306 - accuracy: 0.79 - ETA: 3:57 - loss: 0.5599 - accuracy: 0.78 - ETA: 3:47 - loss: 0.5791 - accuracy: 0.75 - ETA: 3:37 - loss: 0.5859 - accuracy: 0.74 - ETA: 3:27 - loss: 0.5734 - accuracy: 0.75 - ETA: 3:17 - loss: 0.5669 - accuracy: 0.75 - ETA: 3:07 - loss: 0.5676 - accuracy: 0.75 - ETA: 2:57 - loss: 0.5734 - accuracy: 0.75 - ETA: 2:46 - loss: 0.5692 - accuracy: 0.76 - ETA: 2:36 - loss: 0.5825 - accuracy: 0.76 - ETA: 2:26 - loss: 0.5830 - accuracy: 0.76 - ETA: 2:16 - loss: 0.5759 - accuracy: 0.76 - ETA: 2:05 - loss: 0.5759 - accuracy: 0.76 - ETA: 1:55 - loss: 0.5729 - accuracy: 0.77 - ETA: 1:45 - loss: 0.5617 - accuracy: 0.77 - ETA: 1:35 - loss: 0.5658 - accuracy: 0.77 - ETA: 1:24 - loss: 0.5634 - accuracy: 0.77 - ETA: 1:14 - loss: 0.5599 - accuracy: 0.77 - ETA: 1:04 - loss: 0.5533 - accuracy: 0.78 - ETA: 54s - loss: 0.5595 - accuracy: 0.7799 - ETA: 43s - loss: 0.5555 - accuracy: 0.782 - ETA: 33s - loss: 0.5615 - accuracy: 0.778 - ETA: 23s - loss: 0.5568 - accuracy: 0.783 - ETA: 12s - loss: 0.5595 - accuracy: 0.780 - ETA: 2s - loss: 0.5599 - accuracy: 0.779 - 291s 321ms/step - loss: 0.5579 - accuracy: 0.7810 - val_loss: 0.4332 - val_accuracy: 1.0000\n",
      "\n",
      "Epoch 00003: saving model to Model.hdf5\n",
      "Epoch 4/10\n",
      "904/904 [==============================] - ETA: 4:38 - loss: 0.5010 - accuracy: 0.78 - ETA: 4:29 - loss: 0.4891 - accuracy: 0.81 - ETA: 4:18 - loss: 0.4896 - accuracy: 0.83 - ETA: 4:08 - loss: 0.4908 - accuracy: 0.82 - ETA: 3:57 - loss: 0.4864 - accuracy: 0.84 - ETA: 3:47 - loss: 0.4561 - accuracy: 0.86 - ETA: 3:37 - loss: 0.4443 - accuracy: 0.87 - ETA: 3:27 - loss: 0.4192 - accuracy: 0.88 - ETA: 3:17 - loss: 0.4020 - accuracy: 0.88 - ETA: 3:07 - loss: 0.4066 - accuracy: 0.88 - ETA: 2:56 - loss: 0.4058 - accuracy: 0.88 - ETA: 2:46 - loss: 0.4196 - accuracy: 0.87 - ETA: 2:36 - loss: 0.4181 - accuracy: 0.87 - ETA: 2:26 - loss: 0.4096 - accuracy: 0.87 - ETA: 2:16 - loss: 0.4022 - accuracy: 0.87 - ETA: 2:05 - loss: 0.4153 - accuracy: 0.86 - ETA: 1:55 - loss: 0.4249 - accuracy: 0.85 - ETA: 1:45 - loss: 0.4276 - accuracy: 0.85 - ETA: 1:35 - loss: 0.4177 - accuracy: 0.86 - ETA: 1:24 - loss: 0.4236 - accuracy: 0.85 - ETA: 1:14 - loss: 0.4209 - accuracy: 0.85 - ETA: 1:04 - loss: 0.4196 - accuracy: 0.85 - ETA: 53s - loss: 0.4171 - accuracy: 0.8587 - ETA: 43s - loss: 0.4242 - accuracy: 0.855 - ETA: 33s - loss: 0.4214 - accuracy: 0.857 - ETA: 23s - loss: 0.4153 - accuracy: 0.861 - ETA: 12s - loss: 0.4090 - accuracy: 0.866 - ETA: 2s - loss: 0.4063 - accuracy: 0.868 - 290s 321ms/step - loss: 0.4055 - accuracy: 0.8684 - val_loss: 0.4515 - val_accuracy: 1.0000\n",
      "\n",
      "Epoch 00004: saving model to Model.hdf5\n",
      "Epoch 5/10\n",
      "904/904 [==============================] - ETA: 4:35 - loss: 0.1785 - accuracy: 1.00 - ETA: 4:26 - loss: 0.1663 - accuracy: 1.00 - ETA: 4:17 - loss: 0.1696 - accuracy: 0.97 - ETA: 4:08 - loss: 0.1835 - accuracy: 0.98 - ETA: 3:58 - loss: 0.1929 - accuracy: 0.98 - ETA: 3:48 - loss: 0.1845 - accuracy: 0.98 - ETA: 3:37 - loss: 0.1822 - accuracy: 0.99 - ETA: 3:28 - loss: 0.1997 - accuracy: 0.98 - ETA: 3:17 - loss: 0.2058 - accuracy: 0.97 - ETA: 3:07 - loss: 0.2196 - accuracy: 0.95 - ETA: 2:56 - loss: 0.2087 - accuracy: 0.96 - ETA: 2:46 - loss: 0.2078 - accuracy: 0.96 - ETA: 2:36 - loss: 0.2191 - accuracy: 0.95 - ETA: 2:26 - loss: 0.2223 - accuracy: 0.94 - ETA: 2:16 - loss: 0.2290 - accuracy: 0.93 - ETA: 2:05 - loss: 0.2246 - accuracy: 0.94 - ETA: 1:55 - loss: 0.2224 - accuracy: 0.94 - ETA: 1:45 - loss: 0.2176 - accuracy: 0.94 - ETA: 1:35 - loss: 0.2209 - accuracy: 0.94 - ETA: 1:24 - loss: 0.2323 - accuracy: 0.94 - ETA: 1:14 - loss: 0.2346 - accuracy: 0.94 - ETA: 1:04 - loss: 0.2362 - accuracy: 0.93 - ETA: 53s - loss: 0.2371 - accuracy: 0.9375 - ETA: 43s - loss: 0.2405 - accuracy: 0.936 - ETA: 33s - loss: 0.2415 - accuracy: 0.937 - ETA: 23s - loss: 0.2405 - accuracy: 0.939 - ETA: 12s - loss: 0.2441 - accuracy: 0.937 - ETA: 2s - loss: 0.2431 - accuracy: 0.936 - 290s 321ms/step - loss: 0.2422 - accuracy: 0.9369 - val_loss: 0.4036 - val_accuracy: 1.0000\n",
      "\n",
      "Epoch 00005: saving model to Model.hdf5\n",
      "Epoch 6/10\n"
     ]
    },
    {
     "name": "stdout",
     "output_type": "stream",
     "text": [
      "904/904 [==============================] - ETA: 4:33 - loss: 0.2065 - accuracy: 0.96 - ETA: 4:25 - loss: 0.1971 - accuracy: 0.96 - ETA: 4:16 - loss: 0.1699 - accuracy: 0.97 - ETA: 4:07 - loss: 0.1562 - accuracy: 0.98 - ETA: 3:56 - loss: 0.1522 - accuracy: 0.97 - ETA: 3:46 - loss: 0.1498 - accuracy: 0.97 - ETA: 3:37 - loss: 0.1490 - accuracy: 0.97 - ETA: 3:26 - loss: 0.1590 - accuracy: 0.97 - ETA: 3:16 - loss: 0.1584 - accuracy: 0.97 - ETA: 3:06 - loss: 0.1527 - accuracy: 0.97 - ETA: 2:56 - loss: 0.1500 - accuracy: 0.97 - ETA: 2:46 - loss: 0.1450 - accuracy: 0.97 - ETA: 2:35 - loss: 0.1422 - accuracy: 0.98 - ETA: 2:25 - loss: 0.1400 - accuracy: 0.97 - ETA: 2:15 - loss: 0.1360 - accuracy: 0.98 - ETA: 2:05 - loss: 0.1366 - accuracy: 0.98 - ETA: 1:55 - loss: 0.1342 - accuracy: 0.98 - ETA: 1:44 - loss: 0.1314 - accuracy: 0.98 - ETA: 1:34 - loss: 0.1337 - accuracy: 0.98 - ETA: 1:24 - loss: 0.1311 - accuracy: 0.98 - ETA: 1:14 - loss: 0.1323 - accuracy: 0.98 - ETA: 1:04 - loss: 0.1292 - accuracy: 0.98 - ETA: 53s - loss: 0.1287 - accuracy: 0.9810 - ETA: 43s - loss: 0.1278 - accuracy: 0.980 - ETA: 33s - loss: 0.1315 - accuracy: 0.977 - ETA: 23s - loss: 0.1308 - accuracy: 0.977 - ETA: 12s - loss: 0.1310 - accuracy: 0.975 - ETA: 2s - loss: 0.1281 - accuracy: 0.976 - 290s 320ms/step - loss: 0.1281 - accuracy: 0.9768 - val_loss: 0.2354 - val_accuracy: 1.0000\n",
      "\n",
      "Epoch 00006: saving model to Model.hdf5\n",
      "Epoch 7/10\n",
      "904/904 [==============================] - ETA: 4:50 - loss: 0.0917 - accuracy: 1.00 - ETA: 4:33 - loss: 0.0773 - accuracy: 0.98 - ETA: 4:20 - loss: 0.0913 - accuracy: 0.97 - ETA: 4:09 - loss: 0.0857 - accuracy: 0.98 - ETA: 3:59 - loss: 0.0844 - accuracy: 0.98 - ETA: 3:48 - loss: 0.0763 - accuracy: 0.98 - ETA: 3:38 - loss: 0.0738 - accuracy: 0.98 - ETA: 3:27 - loss: 0.0890 - accuracy: 0.98 - ETA: 3:17 - loss: 0.0871 - accuracy: 0.98 - ETA: 3:07 - loss: 0.0969 - accuracy: 0.98 - ETA: 2:57 - loss: 0.0929 - accuracy: 0.98 - ETA: 2:44 - loss: 0.0959 - accuracy: 0.98 - ETA: 2:42 - loss: 0.0955 - accuracy: 0.98 - ETA: 2:35 - loss: 0.0943 - accuracy: 0.98 - ETA: 2:22 - loss: 0.0953 - accuracy: 0.98 - ETA: 2:09 - loss: 0.1012 - accuracy: 0.97 - ETA: 1:57 - loss: 0.0983 - accuracy: 0.97 - ETA: 1:47 - loss: 0.0965 - accuracy: 0.98 - ETA: 1:35 - loss: 0.0941 - accuracy: 0.98 - ETA: 1:25 - loss: 0.0940 - accuracy: 0.97 - ETA: 1:14 - loss: 0.0942 - accuracy: 0.97 - ETA: 1:04 - loss: 0.0926 - accuracy: 0.98 - ETA: 54s - loss: 0.0954 - accuracy: 0.9796 - ETA: 44s - loss: 0.0964 - accuracy: 0.977 - ETA: 33s - loss: 0.0975 - accuracy: 0.976 - ETA: 23s - loss: 0.0974 - accuracy: 0.976 - ETA: 12s - loss: 0.0979 - accuracy: 0.975 - ETA: 2s - loss: 0.0963 - accuracy: 0.976 - 289s 319ms/step - loss: 0.0973 - accuracy: 0.9757 - val_loss: 0.4831 - val_accuracy: 1.0000\n",
      "\n",
      "Epoch 00007: saving model to Model.hdf5\n",
      "Epoch 8/10\n",
      "904/904 [==============================] - ETA: 4:35 - loss: 0.0633 - accuracy: 1.00 - ETA: 4:26 - loss: 0.0902 - accuracy: 0.98 - ETA: 4:16 - loss: 0.1016 - accuracy: 0.96 - ETA: 4:06 - loss: 0.1007 - accuracy: 0.96 - ETA: 3:57 - loss: 0.0963 - accuracy: 0.96 - ETA: 3:46 - loss: 0.0978 - accuracy: 0.95 - ETA: 3:36 - loss: 0.0900 - accuracy: 0.96 - ETA: 3:26 - loss: 0.0854 - accuracy: 0.96 - ETA: 3:16 - loss: 0.1108 - accuracy: 0.96 - ETA: 3:06 - loss: 0.1138 - accuracy: 0.96 - ETA: 2:56 - loss: 0.1082 - accuracy: 0.96 - ETA: 2:46 - loss: 0.1044 - accuracy: 0.96 - ETA: 2:35 - loss: 0.0995 - accuracy: 0.96 - ETA: 2:25 - loss: 0.0999 - accuracy: 0.96 - ETA: 2:15 - loss: 0.1013 - accuracy: 0.96 - ETA: 2:05 - loss: 0.0972 - accuracy: 0.97 - ETA: 1:55 - loss: 0.0975 - accuracy: 0.97 - ETA: 1:45 - loss: 0.0997 - accuracy: 0.96 - ETA: 1:34 - loss: 0.0983 - accuracy: 0.97 - ETA: 1:24 - loss: 0.1063 - accuracy: 0.97 - ETA: 1:14 - loss: 0.1225 - accuracy: 0.96 - ETA: 1:04 - loss: 0.1245 - accuracy: 0.96 - ETA: 53s - loss: 0.1218 - accuracy: 0.9688 - ETA: 43s - loss: 0.1187 - accuracy: 0.970 - ETA: 33s - loss: 0.1158 - accuracy: 0.971 - ETA: 23s - loss: 0.1149 - accuracy: 0.972 - ETA: 12s - loss: 0.1172 - accuracy: 0.971 - ETA: 2s - loss: 0.1239 - accuracy: 0.971 - 290s 320ms/step - loss: 0.1254 - accuracy: 0.9701 - val_loss: 0.1002 - val_accuracy: 1.0000\n",
      "\n",
      "Epoch 00008: saving model to Model.hdf5\n",
      "Epoch 9/10\n",
      "904/904 [==============================] - ETA: 4:38 - loss: 0.0585 - accuracy: 1.00 - ETA: 4:27 - loss: 0.0958 - accuracy: 0.96 - ETA: 4:16 - loss: 0.0825 - accuracy: 0.97 - ETA: 4:06 - loss: 0.1250 - accuracy: 0.96 - ETA: 3:56 - loss: 0.1434 - accuracy: 0.95 - ETA: 3:46 - loss: 0.1934 - accuracy: 0.95 - ETA: 3:35 - loss: 0.1784 - accuracy: 0.95 - ETA: 3:26 - loss: 0.1614 - accuracy: 0.96 - ETA: 3:15 - loss: 0.1505 - accuracy: 0.96 - ETA: 3:05 - loss: 0.1438 - accuracy: 0.97 - ETA: 2:55 - loss: 0.1408 - accuracy: 0.97 - ETA: 2:45 - loss: 0.1348 - accuracy: 0.97 - ETA: 2:35 - loss: 0.1290 - accuracy: 0.97 - ETA: 2:25 - loss: 0.1345 - accuracy: 0.97 - ETA: 2:15 - loss: 0.1295 - accuracy: 0.97 - ETA: 2:06 - loss: 0.1311 - accuracy: 0.97 - ETA: 1:56 - loss: 0.1264 - accuracy: 0.97 - ETA: 1:47 - loss: 0.1268 - accuracy: 0.97 - ETA: 1:36 - loss: 0.1238 - accuracy: 0.97 - ETA: 1:26 - loss: 0.1220 - accuracy: 0.97 - ETA: 1:15 - loss: 0.1227 - accuracy: 0.97 - ETA: 1:05 - loss: 0.1211 - accuracy: 0.97 - ETA: 54s - loss: 0.1189 - accuracy: 0.9742 - ETA: 44s - loss: 0.1146 - accuracy: 0.975 - ETA: 34s - loss: 0.1122 - accuracy: 0.976 - ETA: 23s - loss: 0.1091 - accuracy: 0.977 - ETA: 13s - loss: 0.1136 - accuracy: 0.976 - ETA: 2s - loss: 0.1116 - accuracy: 0.977 - 295s 326ms/step - loss: 0.1110 - accuracy: 0.9779 - val_loss: 0.0645 - val_accuracy: 1.0000\n",
      "\n",
      "Epoch 00009: saving model to Model.hdf5\n",
      "Epoch 10/10\n",
      "904/904 [==============================] - ETA: 4:40 - loss: 0.0250 - accuracy: 1.00 - ETA: 4:53 - loss: 0.0226 - accuracy: 1.00 - ETA: 4:44 - loss: 0.0575 - accuracy: 0.98 - ETA: 4:36 - loss: 0.0601 - accuracy: 0.98 - ETA: 4:26 - loss: 0.0521 - accuracy: 0.98 - ETA: 4:18 - loss: 0.0480 - accuracy: 0.98 - ETA: 4:04 - loss: 0.0480 - accuracy: 0.99 - ETA: 3:51 - loss: 0.0477 - accuracy: 0.99 - ETA: 3:45 - loss: 0.0491 - accuracy: 0.99 - ETA: 3:33 - loss: 0.0454 - accuracy: 0.99 - ETA: 3:20 - loss: 0.0444 - accuracy: 0.99 - ETA: 3:07 - loss: 0.0448 - accuracy: 0.99 - ETA: 2:55 - loss: 0.0490 - accuracy: 0.99 - ETA: 2:46 - loss: 0.0486 - accuracy: 0.99 - ETA: 2:37 - loss: 0.0460 - accuracy: 0.99 - ETA: 2:25 - loss: 0.0455 - accuracy: 0.99 - ETA: 2:13 - loss: 0.0530 - accuracy: 0.98 - ETA: 2:00 - loss: 0.0506 - accuracy: 0.98 - ETA: 1:48 - loss: 0.0525 - accuracy: 0.98 - ETA: 1:36 - loss: 0.0509 - accuracy: 0.98 - ETA: 1:23 - loss: 0.0558 - accuracy: 0.98 - ETA: 1:11 - loss: 0.0610 - accuracy: 0.98 - ETA: 59s - loss: 0.0588 - accuracy: 0.9851 - ETA: 48s - loss: 0.0663 - accuracy: 0.984 - ETA: 36s - loss: 0.0647 - accuracy: 0.985 - ETA: 25s - loss: 0.0631 - accuracy: 0.985 - ETA: 14s - loss: 0.0618 - accuracy: 0.986 - ETA: 2s - loss: 0.0602 - accuracy: 0.986 - 316s 350ms/step - loss: 0.0597 - accuracy: 0.9867 - val_loss: 0.1484 - val_accuracy: 1.0000\n",
      "\n",
      "Epoch 00010: saving model to Model.hdf5\n"
     ]
    }
   ],
   "source": [
    "history = model.fit(x_train, y_train,batch_size=batch_size,epochs=epochs,validation_data=(x_test, y_test),callbacks=[checkpoint]) # Fit for the current dataset\n",
    "model.load_weights(\"Model.hdf5\")\n",
    "answer = model.predict(x_test) # Get prediction output"
   ]
  },
  {
   "cell_type": "code",
   "execution_count": 36,
   "metadata": {},
   "outputs": [
    {
     "name": "stdout",
     "output_type": "stream",
     "text": [
      "[ 1 -1 -1  1  1  0 -1  0  1 -1 -1]\n"
     ]
    }
   ],
   "source": [
    "# model.load_weights(\"Model.hdf5\")\n",
    "# testCase = tokenizer.texts_to_sequences((np.array(documents))[[0,1,2,3,4,5,6,7,8,9,10]])\n",
    "# testCase = pad_sequences(testCase, padding='post', maxlen=maxlen)\n",
    "# answer = model.predict(testCase) # Get prediction output\n",
    "# print(encoder.inverse_transform(answer.argmax(axis=-1)))"
   ]
  },
  {
   "cell_type": "code",
   "execution_count": null,
   "metadata": {},
   "outputs": [],
   "source": [
    "print(\"Precision score micro: \",precision_score(answer.argmax(axis=-1),y_test.argmax(axis=-1),average=\"micro\")) # Print micro precision for final class value\n",
    "print(\"Precision score macro: \",precision_score(answer.argmax(axis=-1),y_test.argmax(axis=-1),average=\"macro\")) # Print macro precision for final class value"
   ]
  },
  {
   "cell_type": "code",
   "execution_count": null,
   "metadata": {},
   "outputs": [],
   "source": [
    "print(\"Recall score micro : \",recall_score(answer.argmax(axis=-1),y_test.argmax(axis=-1),average=\"micro\")) # Print micro recall for final class value\n",
    "print(\"Recall score macro : \",recall_score(answer.argmax(axis=-1),y_test.argmax(axis=-1),average=\"macro\")) # Print macro recall for final class value"
   ]
  },
  {
   "cell_type": "code",
   "execution_count": null,
   "metadata": {},
   "outputs": [],
   "source": [
    "print(\"F1 score micro : \",f1_score(answer.argmax(axis=-1),y_test.argmax(axis=-1),average=\"micro\")) # Print micro f1_score for final class value\n",
    "print(\"F1 score macro : \",f1_score(answer.argmax(axis=-1),y_test.argmax(axis=-1),average=\"macro\")) # Print macro f1_score for final class value"
   ]
  },
  {
   "cell_type": "code",
   "execution_count": null,
   "metadata": {},
   "outputs": [],
   "source": [
    "confusion_matrix(answer.argmax(axis=-1),y_test.argmax(axis=-1))"
   ]
  },
  {
   "cell_type": "code",
   "execution_count": 20,
   "metadata": {},
   "outputs": [
    {
     "data": {
      "image/png": "[encoded data removed]",
      "text/plain": [
       "<Figure size 432x288 with 1 Axes>"
      ]
     },
     "metadata": {
      "needs_background": "light"
     },
     "output_type": "display_data"
    }
   ],
   "source": [
    "fig = go.Figure()\n",
    "fig.add_trace(go.Scatter(x=list(range(20)),y=history.history[\"val_accuracy\"],mode=\"markers+lines\"))\n",
    "\n",
    "# plt.plot(list(range(20)),history.history[\"val_accuracy\"],label=\"validation_accuracy\")\n",
    "# plt.plot(list(range(20)),history.history[\"accuracy\"],label=\"Training accuracy\")\n",
    "# plt.plot(list(range(20)),history.history[\"loss\"],label=\"Training loss\")\n",
    "# plt.plot(list(range(20)),history.history[\"val_loss\"],label=\"Training loss\")\n",
    "# plt.legend()\n",
    "# plt.title(\"epoch vs accuracy\")\n",
    "# plt.show()"
   ]
  },
  {
   "cell_type": "code",
   "execution_count": null,
   "metadata": {
    "scrolled": true
   },
   "outputs": [],
   "source": [
    "# Code to print 10 fold cross validation \n",
    "kfold = StratifiedKFold(n_splits=10, shuffle=True)\n",
    "finalAccuracy = []\n",
    "finalPrecisionMacro = []\n",
    "finalPrecisionMicro = []\n",
    "finalRecallMacro = []\n",
    "finalRecallMicro = []\n",
    "finalF1ScoreMacro = []\n",
    "finalF1ScoreMicro = []\n",
    "count = 0\n",
    "for train,test in kfold.split(documents,oldy):\n",
    "    encodedY = encoder.transform(oldy) # Transform label \n",
    "    y = np_utils.to_categorical(encodedY) # Get categorial label here 1X3 as 3 labels given\n",
    "    tokenizer = Tokenizer(num_words=max_features) # Create tokenizer \n",
    "    tokenizer.fit_on_texts(np.array(documents)[train]) # Fit train data to tokenizer\n",
    "    x_train = tokenizer.texts_to_sequences(np.array(documents)[train]) # train_x data with tokeinzer output\n",
    "    x_test = tokenizer.texts_to_sequences(np.array(documents)[test]) # test_x data with tokeinzer output\n",
    "    x_train = pad_sequences(x_train, padding='post', maxlen=maxlen) # Pad sequence so that length of document remains same -- remove extra data\n",
    "    x_test = pad_sequences(x_test, padding='post', maxlen=maxlen)  # Pad sequence so that length of document remains same -- remove extra data\n",
    "    checkpoint = ModelCheckpoint(\"Model.hdf5\", monitor='val_accuracy', verbose=1, save_best_only=True, mode='max')\n",
    "    model = Model(inputs=inputLayer, outputs=activationSoftmax) # Add input and output layer to create the network\n",
    "    model.compile(loss='categorical_crossentropy',optimizer='adam',metrics=['accuracy']) # Compute with adamic adar and categorial cross entropy\n",
    "    model.fit(x_train, y[train],batch_size=batch_size,epochs=10,validation_data=(x_test, y[test]),callbacks=[checkpoint]) # Fit for the current dataset\n",
    "    model.load_weights(\"Model.hdf5\")\n",
    "    answer = model.predict(x_test) \n",
    "\n",
    "    count+=1\n",
    "    finalAccuracy += [accuracy_score(answer.argmax(axis=-1),y[test].argmax(axis=-1))]\n",
    "    finalPrecisionMacro += [precision_score(answer.argmax(axis=-1),y[test].argmax(axis=-1),average=\"macro\")]\n",
    "    finalPrecisionMicro += [precision_score(answer.argmax(axis=-1),y[test].argmax(axis=-1),average=\"micro\")]\n",
    "    finalRecallMicro += [recall_score(answer.argmax(axis=-1),y[test].argmax(axis=-1),average=\"micro\")]\n",
    "    finalRecallMacro += [recall_score(answer.argmax(axis=-1),y[test].argmax(axis=-1),average=\"macro\")]\n",
    "    finalF1ScoreMicro += [f1_score(answer.argmax(axis=-1),y[test].argmax(axis=-1),average=\"micro\")]\n",
    "    finalF1ScoreMacro += [f1_score(answer.argmax(axis=-1),y[test].argmax(axis=-1),average=\"macro\")]\n",
    "\n",
    "    print(sum(finalAccuracy)/count,sum(finalPrecisionMacro)/count,sum(finalPrecisionMicro)/count,sum(finalRecallMicro)/count,sum(finalRecallMacro)/count,sum(finalF1ScoreMicro)/count,sum(finalF1ScoreMacro)/count)"
   ]
  }
 ],
 "metadata": {
  "kernelspec": {
   "display_name": "Python 3",
   "language": "python",
   "name": "python3"
  }
 },
 "nbformat": 4,
 "nbformat_minor": 2
}
