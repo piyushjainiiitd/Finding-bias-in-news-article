{
 "cells": [
  {
   "cell_type": "code",
   "execution_count": 24,
   "metadata": {},
   "outputs": [],
   "source": [
    "#Import library in python\n",
    "from Preprocessing import preprocess\n",
    "import glob\n",
    "from gensim.models.doc2vec import Doc2Vec,TaggedDocument\n",
    "import csv\n",
    "from keras.models import Sequential,Model\n",
    "from keras import layers\n",
    "from sklearn.model_selection import train_test_split\n",
    "from keras.layers import Input,Dense,Conv1D,Activation,BatchNormalization,GlobalMaxPooling1D,Concatenate,Flatten,Dropout,Embedding\n",
    "import numpy as np\n",
    "from sklearn.feature_extraction.text import TfidfVectorizer\n",
    "from sklearn.preprocessing import LabelEncoder\n",
    "from keras.utils import np_utils\n",
    "from keras.preprocessing.text import Tokenizer\n",
    "from keras.preprocessing.sequence import pad_sequences\n",
    "from keras import optimizers\n",
    "from sklearn.metrics import precision_score,recall_score,f1_score,confusion_matrix,accuracy_score\n",
    "import plotly.graph_objects as go\n",
    "from keras.callbacks import ModelCheckpoint\n",
    "from sklearn.model_selection import StratifiedKFold\n",
    "import matplotlib.pyplot as plt"
   ]
  },
  {
   "cell_type": "code",
   "execution_count": 25,
   "metadata": {},
   "outputs": [],
   "source": [
    "# Import preprocess files\n",
    "preprocessing = preprocess()"
   ]
  },
  {
   "cell_type": "code",
   "execution_count": 26,
   "metadata": {},
   "outputs": [],
   "source": [
    "# Preprocess data to generate the data\n",
    "def generateWordList(fileData): # Generate list of preprocessed words from file\n",
    "    finalSet = preprocessing.checkEmail(fileData) # Check emails in the file and add them to wordlist\n",
    "    fileData = preprocessing.removeEmail(fileData) # Remove emails \n",
    "    finalSet = finalSet + preprocessing.checkWebsite(fileData) # Check for website and decimal number and add them to wordlist\n",
    "    fileData = preprocessing.removeWebsite(fileData) # Remove webiste and decimal numbers \n",
    "    fileData = preprocessing.contractionsExpand(fileData) # Expand the contracted word\n",
    "    fileData = preprocessing.caseChange(fileData) # Change case of file to lower case\n",
    "    fileData = preprocessing.removePunctuations(fileData) # Remove punctutation \n",
    "    wordList = preprocessing.wordSeperator(fileData) # Seperate words by space\n",
    "    for word in wordList: # For each words in word list\n",
    "        if word.isdecimal(): # If number is present expand it \n",
    "            finalSet += preprocessing.changeNumber(word) # Generate number form of the number and add it to final list \n",
    "        else: \n",
    "            finalSet.append(preprocessing.lemmatizeWord(word)) # If it is word apply lemmatization\n",
    "    return finalSet # Return the fnal word list"
   ]
  },
  {
   "cell_type": "code",
   "execution_count": 54,
   "metadata": {},
   "outputs": [],
   "source": [
    "fileData = open(\"Annotated-Data.txt\",encoding=\"utf8\").read() # Load annotation files\n",
    "count = 0 # Count the file -- not used now\n",
    "documents = [] # store the documents\n",
    "y = [] # Load the answer vector\n",
    "for i in fileData.split(\"\\n\"): # Split data from the annotation file\n",
    "    splitData = i.split(\"\\t\") # Split annotation and article text\n",
    "    if len(splitData)>1: # If annotation file len > 1 that is some value is presents\n",
    "        y.append(int(splitData[0])) # Load final annotation \n",
    "        documents.append(\" \".join(generateWordList(\" \".join(splitData[1:])))) # Load preprocessed annotation\n",
    "        count += 1"
   ]
  },
  {
   "cell_type": "code",
   "execution_count": 55,
   "metadata": {},
   "outputs": [],
   "source": [
    "# \"\"\"***Semeval Data***\"\"\"\n",
    "# fileData = open(\"SemEval-2019.txt\",encoding=\"utf8\").read()\n",
    "# count = 0 \n",
    "# documents = []\n",
    "# y = []\n",
    "# for i in fileData.split(\"\\n\"):\n",
    "#     splitData = i.split(\" \")\n",
    "#     if len(splitData)>1:\n",
    "#         y.append(int(splitData[1]))\n",
    "#         documents.append(\" \".join(generateWordList(\" \".join(splitData[2:]))))\n",
    "#         count += 1"
   ]
  },
  {
   "cell_type": "code",
   "execution_count": 56,
   "metadata": {},
   "outputs": [],
   "source": [
    "max_features = 5000\n",
    "maxlen = 1000\n",
    "batch_size = 32\n",
    "embedding_dims = 500\n",
    "filters = 250\n",
    "kernel_size = [2,3,4,5,6]\n",
    "hidden_dims = 250\n",
    "epochs = 20\n",
    "classes = 3"
   ]
  },
  {
   "cell_type": "code",
   "execution_count": 57,
   "metadata": {},
   "outputs": [],
   "source": [
    "oldy = y.copy()\n",
    "encoder = LabelEncoder() # Create a label encoder\n",
    "encoder.fit(y) # Fit label encoder\n",
    "encodedY = encoder.transform(y) # Transform label \n",
    "y = np_utils.to_categorical(encodedY) # Get categorial label here 1X3 as 3 labels given"
   ]
  },
  {
   "cell_type": "code",
   "execution_count": 58,
   "metadata": {},
   "outputs": [],
   "source": [
    "x_train, x_test, y_train, y_test = train_test_split(documents,y, test_size=0.20) # Split train and test data "
   ]
  },
  {
   "cell_type": "code",
   "execution_count": 59,
   "metadata": {},
   "outputs": [],
   "source": [
    "tokenizer = Tokenizer(num_words=max_features) # Create tokenizer \n",
    "tokenizer.fit_on_texts(x_train) # Fit train data to tokenizer\n",
    "x_train = tokenizer.texts_to_sequences(x_train) # train_x data with tokeinzer output\n",
    "x_test = tokenizer.texts_to_sequences(x_test) # test_x data with tokeinzer output\n",
    "x_train = pad_sequences(x_train, padding='post', maxlen=maxlen) # Pad sequence so that length of document remains same -- remove extra data\n",
    "x_test = pad_sequences(x_test, padding='post', maxlen=maxlen)  # Pad sequence so that length of document remains same -- remove extra data"
   ]
  },
  {
   "cell_type": "code",
   "execution_count": 60,
   "metadata": {},
   "outputs": [],
   "source": [
    "inputLayer = Input(shape=(maxlen,)) # Create input layer\n",
    "embedding = Embedding(max_features,embedding_dims,input_length=maxlen)(inputLayer) # Create embedding layer to provide embedding to text\n",
    "dropoutLayer = Dropout(0.2)(embedding) # Add dropout layer\n",
    "\n",
    "convolution1 = Conv1D(filters,kernel_size[0],padding='valid',activation='relu',strides=1)(dropoutLayer) # Add convolution layer 1\n",
    "branchNormaltize1 = BatchNormalization(momentum=0.5)(convolution1) # Batch normalize to provide better accuracy and fast processing\n",
    "activation1 = Activation('relu')(branchNormaltize1) # Add relu activation layer to convolution 1\n",
    "maxPooling1 = GlobalMaxPooling1D()(activation1) # Apply max polling to layer 1\n",
    "\n",
    "convolution2 = Conv1D(filters,kernel_size[1],padding='valid',activation='relu',strides=1)(dropoutLayer) # Add convolution layer 2\n",
    "branchNormaltize2 = BatchNormalization(momentum=0.5)(convolution2) # Batch normalize to provide better accuracy and fast processing\n",
    "activation2 = Activation('relu')(branchNormaltize2) # Add relu activation layer to convolution 2\n",
    "maxPooling2 = GlobalMaxPooling1D()(activation2) # Apply max polling to layer 2\n",
    "\n",
    "convolution3 = Conv1D(filters,kernel_size[2],padding='valid',activation='relu',strides=1)(dropoutLayer) # Add convolution layer 3\n",
    "branchNormaltize3 = BatchNormalization(momentum=0.5)(convolution3) # Batch normalize to provide better accuracy and fast processing\n",
    "activation3 = Activation('relu')(branchNormaltize3) # Add relu activation layer to convolution 3\n",
    "maxPooling3 = GlobalMaxPooling1D()(activation3) # Apply max polling to layer 3\n",
    "\n",
    "convolution4 = Conv1D(filters,kernel_size[3],padding='valid',activation='relu',strides=1)(dropoutLayer) # Add convolution layer 4\n",
    "branchNormaltize4 = BatchNormalization(momentum=0.5)(convolution4) # Batch normalize to provide better accuracy and fast processing\n",
    "activation4 = Activation('relu')(branchNormaltize4) # Add relu activation layer to convolution 4\n",
    "maxPooling4 = GlobalMaxPooling1D()(activation4) # Apply max polling to layer 4\n",
    "\n",
    "convolution5 = Conv1D(filters,kernel_size[4],padding='valid',activation='relu',strides=1)(dropoutLayer) # Add convolution layer 5\n",
    "branchNormaltize5 = BatchNormalization(momentum=0.5)(convolution5) # Batch normalize to provide better accuracy and fast processing\n",
    "activation5 = Activation('relu')(branchNormaltize5) # Add relu activation layer to convolution 5\n",
    "maxPooling5 = GlobalMaxPooling1D()(activation5) # Apply max polling to layer 5\n",
    "\n",
    "concatenationLayer = Concatenate()([maxPooling1, maxPooling2, maxPooling3,maxPooling4,maxPooling5]) # Concatenate layers\n",
    "\n",
    "dense1 = Dense(hidden_dims)(concatenationLayer) # Apply dense layer 1\n",
    "dropoutLayer2 = Dropout(0.2)(dense1) # Add dropout layer \n",
    "activationRelu = Activation('relu')(dropoutLayer2) # Add relu activation layer\n",
    "\n",
    "dense2 = Dense(classes)(activationRelu) # Apply dense layer 1\n",
    "activationSoftmax = Activation('softmax')(dense2) # Add softmax layer which will be the final output\n",
    "\n",
    "checkpoint = ModelCheckpoint(\"Model.hdf5\", monitor='val_accuracy', verbose=1, save_best_only=True, mode='max')\n",
    "\n",
    "model = Model(inputs=inputLayer, outputs=activationSoftmax) # Add input and output layer to create the network\n",
    "model.compile(loss='categorical_crossentropy',optimizer='adam',metrics=['accuracy']) # Compute with adamic adar and categorial cross entropy"
   ]
  },
  {
   "cell_type": "code",
   "execution_count": 61,
   "metadata": {},
   "outputs": [
    {
     "name": "stderr",
     "output_type": "stream",
     "text": [
      "C:\\Users\\ASUS\\AppData\\Roaming\\Python\\Python37\\site-packages\\tensorflow_core\\python\\framework\\indexed_slices.py:433: UserWarning:\n",
      "\n",
      "Converting sparse IndexedSlices to a dense Tensor of unknown shape. This may consume a large amount of memory.\n",
      "\n"
     ]
    },
    {
     "name": "stdout",
     "output_type": "stream",
     "text": [
      "Train on 724 samples, validate on 181 samples\n",
      "Epoch 1/20\n",
      "724/724 [==============================] - ETA: 4:06 - loss: 2.5972 - accuracy: 0.53 - ETA: 3:30 - loss: 9.2547 - accuracy: 0.40 - ETA: 3:17 - loss: 13.0425 - accuracy: 0.375 - ETA: 3:01 - loss: 13.8670 - accuracy: 0.343 - ETA: 2:46 - loss: 12.5166 - accuracy: 0.331 - ETA: 2:33 - loss: 11.3907 - accuracy: 0.328 - ETA: 2:22 - loss: 10.3026 - accuracy: 0.352 - ETA: 2:11 - loss: 9.5992 - accuracy: 0.371 - ETA: 2:01 - loss: 9.1564 - accuracy: 0.37 - ETA: 1:51 - loss: 8.6361 - accuracy: 0.38 - ETA: 1:42 - loss: 8.2580 - accuracy: 0.39 - ETA: 1:35 - loss: 8.1008 - accuracy: 0.38 - ETA: 1:28 - loss: 7.7835 - accuracy: 0.38 - ETA: 1:19 - loss: 7.5554 - accuracy: 0.38 - ETA: 1:10 - loss: 7.2956 - accuracy: 0.38 - ETA: 1:01 - loss: 7.0706 - accuracy: 0.38 - ETA: 51s - loss: 6.8570 - accuracy: 0.3805 - ETA: 42s - loss: 6.5978 - accuracy: 0.381 - ETA: 33s - loss: 6.3528 - accuracy: 0.376 - ETA: 24s - loss: 6.1434 - accuracy: 0.375 - ETA: 14s - loss: 6.0158 - accuracy: 0.367 - ETA: 5s - loss: 5.9131 - accuracy: 0.360 - 226s 312ms/step - loss: 5.8117 - accuracy: 0.3633 - val_loss: 2.0383 - val_accuracy: 0.2707\n",
      "\n",
      "Epoch 00001: val_accuracy improved from -inf to 0.27072, saving model to Model.hdf5\n",
      "Epoch 2/20\n",
      "724/724 [==============================] - ETA: 3:16 - loss: 2.7915 - accuracy: 0.31 - ETA: 3:07 - loss: 2.2270 - accuracy: 0.39 - ETA: 2:56 - loss: 1.9097 - accuracy: 0.42 - ETA: 2:46 - loss: 1.6981 - accuracy: 0.47 - ETA: 2:36 - loss: 1.7465 - accuracy: 0.45 - ETA: 2:26 - loss: 1.6510 - accuracy: 0.48 - ETA: 2:16 - loss: 1.6533 - accuracy: 0.48 - ETA: 2:06 - loss: 1.5999 - accuracy: 0.47 - ETA: 1:57 - loss: 1.5288 - accuracy: 0.48 - ETA: 1:48 - loss: 1.4816 - accuracy: 0.49 - ETA: 1:40 - loss: 1.4437 - accuracy: 0.49 - ETA: 1:31 - loss: 1.3999 - accuracy: 0.49 - ETA: 1:22 - loss: 1.3674 - accuracy: 0.50 - ETA: 1:13 - loss: 1.3400 - accuracy: 0.50 - ETA: 1:05 - loss: 1.3067 - accuracy: 0.51 - ETA: 56s - loss: 1.2754 - accuracy: 0.5215 - ETA: 47s - loss: 1.2511 - accuracy: 0.523 - ETA: 39s - loss: 1.2304 - accuracy: 0.527 - ETA: 30s - loss: 1.2109 - accuracy: 0.536 - ETA: 22s - loss: 1.1816 - accuracy: 0.546 - ETA: 13s - loss: 1.1675 - accuracy: 0.543 - ETA: 5s - loss: 1.1413 - accuracy: 0.556 - 206s 284ms/step - loss: 1.1332 - accuracy: 0.5566 - val_loss: 1.0160 - val_accuracy: 0.5138\n",
      "\n",
      "Epoch 00002: val_accuracy improved from 0.27072 to 0.51381, saving model to Model.hdf5\n",
      "Epoch 3/20\n",
      "724/724 [==============================] - ETA: 3:00 - loss: 0.6676 - accuracy: 0.75 - ETA: 2:51 - loss: 0.6307 - accuracy: 0.75 - ETA: 2:44 - loss: 0.6193 - accuracy: 0.78 - ETA: 2:35 - loss: 0.6146 - accuracy: 0.77 - ETA: 2:27 - loss: 0.5692 - accuracy: 0.78 - ETA: 2:18 - loss: 0.5269 - accuracy: 0.81 - ETA: 2:10 - loss: 0.5114 - accuracy: 0.81 - ETA: 2:01 - loss: 0.5130 - accuracy: 0.82 - ETA: 1:54 - loss: 0.5075 - accuracy: 0.82 - ETA: 1:45 - loss: 0.5146 - accuracy: 0.82 - ETA: 1:37 - loss: 0.5103 - accuracy: 0.82 - ETA: 1:28 - loss: 0.5143 - accuracy: 0.82 - ETA: 1:20 - loss: 0.5179 - accuracy: 0.81 - ETA: 1:12 - loss: 0.5158 - accuracy: 0.82 - ETA: 1:03 - loss: 0.5116 - accuracy: 0.82 - ETA: 55s - loss: 0.5104 - accuracy: 0.8262 - ETA: 47s - loss: 0.5001 - accuracy: 0.830 - ETA: 38s - loss: 0.4993 - accuracy: 0.833 - ETA: 30s - loss: 0.4908 - accuracy: 0.837 - ETA: 21s - loss: 0.4875 - accuracy: 0.835 - ETA: 13s - loss: 0.4857 - accuracy: 0.837 - ETA: 5s - loss: 0.4792 - accuracy: 0.840 - 203s 281ms/step - loss: 0.4805 - accuracy: 0.8384 - val_loss: 0.9832 - val_accuracy: 0.5470\n",
      "\n",
      "Epoch 00003: val_accuracy improved from 0.51381 to 0.54696, saving model to Model.hdf5\n",
      "Epoch 4/20\n",
      "724/724 [==============================] - ETA: 2:57 - loss: 0.2939 - accuracy: 0.96 - ETA: 2:51 - loss: 0.2879 - accuracy: 0.95 - ETA: 2:42 - loss: 0.2980 - accuracy: 0.93 - ETA: 2:34 - loss: 0.3364 - accuracy: 0.90 - ETA: 2:26 - loss: 0.3207 - accuracy: 0.90 - ETA: 2:18 - loss: 0.2977 - accuracy: 0.91 - ETA: 2:09 - loss: 0.3014 - accuracy: 0.91 - ETA: 2:01 - loss: 0.3035 - accuracy: 0.90 - ETA: 1:53 - loss: 0.3090 - accuracy: 0.90 - ETA: 1:44 - loss: 0.3042 - accuracy: 0.91 - ETA: 1:36 - loss: 0.3062 - accuracy: 0.90 - ETA: 1:28 - loss: 0.2999 - accuracy: 0.91 - ETA: 1:19 - loss: 0.2988 - accuracy: 0.92 - ETA: 1:11 - loss: 0.2978 - accuracy: 0.91 - ETA: 1:03 - loss: 0.2936 - accuracy: 0.92 - ETA: 55s - loss: 0.2964 - accuracy: 0.9199 - ETA: 46s - loss: 0.2958 - accuracy: 0.919 - ETA: 38s - loss: 0.2977 - accuracy: 0.920 - ETA: 30s - loss: 0.2977 - accuracy: 0.919 - ETA: 21s - loss: 0.2969 - accuracy: 0.920 - ETA: 13s - loss: 0.3038 - accuracy: 0.916 - ETA: 5s - loss: 0.2990 - accuracy: 0.919 - 205s 283ms/step - loss: 0.2960 - accuracy: 0.9199 - val_loss: 1.0096 - val_accuracy: 0.5249\n",
      "\n",
      "Epoch 00004: val_accuracy did not improve from 0.54696\n",
      "Epoch 5/20\n",
      "724/724 [==============================] - ETA: 3:34 - loss: 0.1169 - accuracy: 1.00 - ETA: 3:23 - loss: 0.1433 - accuracy: 1.00 - ETA: 3:09 - loss: 0.1516 - accuracy: 0.98 - ETA: 2:57 - loss: 0.1554 - accuracy: 0.98 - ETA: 2:47 - loss: 0.1535 - accuracy: 0.98 - ETA: 2:37 - loss: 0.1480 - accuracy: 0.98 - ETA: 2:29 - loss: 0.1569 - accuracy: 0.98 - ETA: 2:19 - loss: 0.1670 - accuracy: 0.98 - ETA: 2:10 - loss: 0.1818 - accuracy: 0.96 - ETA: 2:02 - loss: 0.1872 - accuracy: 0.96 - ETA: 1:52 - loss: 0.1960 - accuracy: 0.95 - ETA: 1:41 - loss: 0.1898 - accuracy: 0.95 - ETA: 1:30 - loss: 0.1884 - accuracy: 0.95 - ETA: 1:20 - loss: 0.1868 - accuracy: 0.95 - ETA: 1:10 - loss: 0.1866 - accuracy: 0.95 - ETA: 1:01 - loss: 0.1861 - accuracy: 0.95 - ETA: 51s - loss: 0.1845 - accuracy: 0.9577 - ETA: 42s - loss: 0.1808 - accuracy: 0.960 - ETA: 32s - loss: 0.1763 - accuracy: 0.962 - ETA: 23s - loss: 0.1763 - accuracy: 0.959 - ETA: 14s - loss: 0.1791 - accuracy: 0.956 - ETA: 5s - loss: 0.1786 - accuracy: 0.957 - 217s 299ms/step - loss: 0.1771 - accuracy: 0.9586 - val_loss: 1.0462 - val_accuracy: 0.5414\n",
      "\n",
      "Epoch 00005: val_accuracy did not improve from 0.54696\n",
      "Epoch 6/20\n",
      "724/724 [==============================] - ETA: 3:00 - loss: 0.1155 - accuracy: 1.00 - ETA: 2:53 - loss: 0.0856 - accuracy: 1.00 - ETA: 2:47 - loss: 0.0902 - accuracy: 0.98 - ETA: 2:38 - loss: 0.1206 - accuracy: 0.96 - ETA: 2:34 - loss: 0.1167 - accuracy: 0.97 - ETA: 2:28 - loss: 0.1117 - accuracy: 0.97 - ETA: 2:19 - loss: 0.1015 - accuracy: 0.98 - ETA: 2:09 - loss: 0.1040 - accuracy: 0.98 - ETA: 2:00 - loss: 0.1025 - accuracy: 0.98 - ETA: 1:51 - loss: 0.0980 - accuracy: 0.98 - ETA: 1:42 - loss: 0.0959 - accuracy: 0.98 - ETA: 1:33 - loss: 0.0975 - accuracy: 0.98 - ETA: 1:24 - loss: 0.1016 - accuracy: 0.98 - ETA: 1:15 - loss: 0.0996 - accuracy: 0.98 - ETA: 1:06 - loss: 0.1014 - accuracy: 0.97 - ETA: 57s - loss: 0.0995 - accuracy: 0.9805 - ETA: 49s - loss: 0.0995 - accuracy: 0.979 - ETA: 40s - loss: 0.0993 - accuracy: 0.980 - ETA: 31s - loss: 0.0976 - accuracy: 0.981 - ETA: 22s - loss: 0.1011 - accuracy: 0.981 - ETA: 14s - loss: 0.1046 - accuracy: 0.980 - ETA: 5s - loss: 0.1133 - accuracy: 0.978 - 211s 291ms/step - loss: 0.1118 - accuracy: 0.9793 - val_loss: 1.0740 - val_accuracy: 0.5635\n",
      "\n",
      "Epoch 00006: val_accuracy improved from 0.54696 to 0.56354, saving model to Model.hdf5\n",
      "Epoch 7/20\n"
     ]
    },
    {
     "name": "stdout",
     "output_type": "stream",
     "text": [
      "724/724 [==============================] - ETA: 3:01 - loss: 0.1239 - accuracy: 0.93 - ETA: 2:55 - loss: 0.0856 - accuracy: 0.96 - ETA: 2:46 - loss: 0.0691 - accuracy: 0.97 - ETA: 2:38 - loss: 0.0700 - accuracy: 0.98 - ETA: 2:29 - loss: 0.0863 - accuracy: 0.98 - ETA: 2:21 - loss: 0.0862 - accuracy: 0.98 - ETA: 2:12 - loss: 0.0970 - accuracy: 0.98 - ETA: 2:04 - loss: 0.0965 - accuracy: 0.98 - ETA: 1:58 - loss: 0.0936 - accuracy: 0.98 - ETA: 1:51 - loss: 0.0924 - accuracy: 0.98 - ETA: 1:42 - loss: 0.0884 - accuracy: 0.98 - ETA: 1:33 - loss: 0.0868 - accuracy: 0.98 - ETA: 1:24 - loss: 0.0861 - accuracy: 0.98 - ETA: 1:15 - loss: 0.0913 - accuracy: 0.98 - ETA: 1:06 - loss: 0.0985 - accuracy: 0.98 - ETA: 57s - loss: 0.0956 - accuracy: 0.9863 - ETA: 49s - loss: 0.0945 - accuracy: 0.987 - ETA: 40s - loss: 0.0942 - accuracy: 0.987 - ETA: 31s - loss: 0.0917 - accuracy: 0.988 - ETA: 22s - loss: 0.0920 - accuracy: 0.987 - ETA: 14s - loss: 0.0986 - accuracy: 0.986 - ETA: 5s - loss: 0.0961 - accuracy: 0.987 - 212s 293ms/step - loss: 0.0954 - accuracy: 0.9876 - val_loss: 1.1560 - val_accuracy: 0.5691\n",
      "\n",
      "Epoch 00007: val_accuracy improved from 0.56354 to 0.56906, saving model to Model.hdf5\n",
      "Epoch 8/20\n",
      "724/724 [==============================] - ETA: 2:58 - loss: 0.0947 - accuracy: 0.96 - ETA: 2:52 - loss: 0.0674 - accuracy: 0.98 - ETA: 2:45 - loss: 0.0717 - accuracy: 0.97 - ETA: 2:38 - loss: 0.0643 - accuracy: 0.98 - ETA: 2:34 - loss: 0.0639 - accuracy: 0.98 - ETA: 2:26 - loss: 0.0630 - accuracy: 0.98 - ETA: 2:17 - loss: 0.0666 - accuracy: 0.98 - ETA: 2:09 - loss: 0.0643 - accuracy: 0.98 - ETA: 2:02 - loss: 0.0619 - accuracy: 0.98 - ETA: 1:54 - loss: 0.0693 - accuracy: 0.98 - ETA: 1:45 - loss: 0.0662 - accuracy: 0.98 - ETA: 1:37 - loss: 0.0667 - accuracy: 0.98 - ETA: 1:28 - loss: 0.0753 - accuracy: 0.98 - ETA: 1:19 - loss: 0.0714 - accuracy: 0.98 - ETA: 1:11 - loss: 0.0758 - accuracy: 0.98 - ETA: 1:02 - loss: 0.0758 - accuracy: 0.98 - ETA: 52s - loss: 0.0762 - accuracy: 0.9798 - ETA: 43s - loss: 0.0739 - accuracy: 0.980 - ETA: 34s - loss: 0.0723 - accuracy: 0.981 - ETA: 24s - loss: 0.0704 - accuracy: 0.982 - ETA: 15s - loss: 0.0688 - accuracy: 0.983 - ETA: 5s - loss: 0.0697 - accuracy: 0.983 - 224s 310ms/step - loss: 0.0698 - accuracy: 0.9834 - val_loss: 1.1202 - val_accuracy: 0.5635\n",
      "\n",
      "Epoch 00008: val_accuracy did not improve from 0.56906\n",
      "Epoch 9/20\n",
      "724/724 [==============================] - ETA: 3:01 - loss: 0.0330 - accuracy: 1.00 - ETA: 2:52 - loss: 0.0475 - accuracy: 1.00 - ETA: 2:44 - loss: 0.0501 - accuracy: 1.00 - ETA: 2:35 - loss: 0.0480 - accuracy: 1.00 - ETA: 2:27 - loss: 0.0434 - accuracy: 1.00 - ETA: 2:18 - loss: 0.0449 - accuracy: 0.99 - ETA: 2:10 - loss: 0.0439 - accuracy: 0.99 - ETA: 2:02 - loss: 0.0737 - accuracy: 0.98 - ETA: 1:53 - loss: 0.0692 - accuracy: 0.98 - ETA: 1:45 - loss: 0.0652 - accuracy: 0.99 - ETA: 1:37 - loss: 0.0653 - accuracy: 0.99 - ETA: 1:29 - loss: 0.0628 - accuracy: 0.99 - ETA: 1:21 - loss: 0.0603 - accuracy: 0.99 - ETA: 1:13 - loss: 0.0594 - accuracy: 0.99 - ETA: 1:05 - loss: 0.0570 - accuracy: 0.99 - ETA: 57s - loss: 0.0554 - accuracy: 0.9941 - ETA: 48s - loss: 0.0548 - accuracy: 0.994 - ETA: 40s - loss: 0.0569 - accuracy: 0.993 - ETA: 31s - loss: 0.0573 - accuracy: 0.993 - ETA: 22s - loss: 0.0560 - accuracy: 0.993 - ETA: 14s - loss: 0.0553 - accuracy: 0.994 - ETA: 5s - loss: 0.0553 - accuracy: 0.992 - 210s 290ms/step - loss: 0.0590 - accuracy: 0.9917 - val_loss: 1.1979 - val_accuracy: 0.5635\n",
      "\n",
      "Epoch 00009: val_accuracy did not improve from 0.56906\n",
      "Epoch 10/20\n",
      "724/724 [==============================] - ETA: 3:03 - loss: 0.0475 - accuracy: 1.00 - ETA: 2:55 - loss: 0.0531 - accuracy: 0.98 - ETA: 2:47 - loss: 0.0454 - accuracy: 0.98 - ETA: 2:39 - loss: 0.0394 - accuracy: 0.99 - ETA: 2:30 - loss: 0.0389 - accuracy: 0.99 - ETA: 2:21 - loss: 0.0464 - accuracy: 0.98 - ETA: 2:13 - loss: 0.0455 - accuracy: 0.99 - ETA: 2:04 - loss: 0.0422 - accuracy: 0.99 - ETA: 1:56 - loss: 0.0405 - accuracy: 0.99 - ETA: 1:48 - loss: 0.0387 - accuracy: 0.99 - ETA: 1:40 - loss: 0.0513 - accuracy: 0.98 - ETA: 1:31 - loss: 0.0493 - accuracy: 0.98 - ETA: 1:22 - loss: 0.0483 - accuracy: 0.99 - ETA: 1:14 - loss: 0.0463 - accuracy: 0.99 - ETA: 1:06 - loss: 0.0442 - accuracy: 0.99 - ETA: 57s - loss: 0.0430 - accuracy: 0.9922 - ETA: 49s - loss: 0.0415 - accuracy: 0.992 - ETA: 40s - loss: 0.0403 - accuracy: 0.993 - ETA: 32s - loss: 0.0404 - accuracy: 0.993 - ETA: 23s - loss: 0.0408 - accuracy: 0.992 - ETA: 14s - loss: 0.0400 - accuracy: 0.992 - ETA: 5s - loss: 0.0391 - accuracy: 0.992 - 215s 297ms/step - loss: 0.0388 - accuracy: 0.9931 - val_loss: 1.1958 - val_accuracy: 0.5635\n",
      "\n",
      "Epoch 00010: val_accuracy did not improve from 0.56906\n",
      "Epoch 11/20\n",
      "724/724 [==============================] - ETA: 3:01 - loss: 0.0132 - accuracy: 1.00 - ETA: 2:54 - loss: 0.0185 - accuracy: 1.00 - ETA: 2:47 - loss: 0.0202 - accuracy: 1.00 - ETA: 2:47 - loss: 0.0199 - accuracy: 1.00 - ETA: 2:44 - loss: 0.0200 - accuracy: 1.00 - ETA: 2:33 - loss: 0.0185 - accuracy: 1.00 - ETA: 2:22 - loss: 0.0339 - accuracy: 0.99 - ETA: 2:12 - loss: 0.0311 - accuracy: 0.99 - ETA: 2:02 - loss: 0.0336 - accuracy: 0.99 - ETA: 1:53 - loss: 0.0318 - accuracy: 0.99 - ETA: 1:45 - loss: 0.0382 - accuracy: 0.99 - ETA: 1:35 - loss: 0.0620 - accuracy: 0.98 - ETA: 1:26 - loss: 0.0592 - accuracy: 0.99 - ETA: 1:16 - loss: 0.0574 - accuracy: 0.99 - ETA: 1:07 - loss: 0.0558 - accuracy: 0.99 - ETA: 58s - loss: 0.0561 - accuracy: 0.9922 - ETA: 49s - loss: 0.0544 - accuracy: 0.992 - ETA: 40s - loss: 0.0524 - accuracy: 0.993 - ETA: 31s - loss: 0.0652 - accuracy: 0.991 - ETA: 23s - loss: 0.0631 - accuracy: 0.992 - ETA: 14s - loss: 0.0615 - accuracy: 0.992 - ETA: 5s - loss: 0.0592 - accuracy: 0.992 - 216s 298ms/step - loss: 0.0578 - accuracy: 0.9931 - val_loss: 1.3063 - val_accuracy: 0.4972\n",
      "\n",
      "Epoch 00011: val_accuracy did not improve from 0.56906\n",
      "Epoch 12/20\n",
      "724/724 [==============================] - ETA: 3:01 - loss: 0.0591 - accuracy: 0.96 - ETA: 2:52 - loss: 0.0365 - accuracy: 0.98 - ETA: 2:44 - loss: 0.0329 - accuracy: 0.98 - ETA: 2:35 - loss: 0.0317 - accuracy: 0.99 - ETA: 2:27 - loss: 0.0283 - accuracy: 0.99 - ETA: 2:19 - loss: 0.0306 - accuracy: 0.99 - ETA: 2:10 - loss: 0.0289 - accuracy: 0.99 - ETA: 2:02 - loss: 0.0280 - accuracy: 0.99 - ETA: 1:54 - loss: 0.0277 - accuracy: 0.99 - ETA: 1:45 - loss: 0.0287 - accuracy: 0.99 - ETA: 1:37 - loss: 0.0296 - accuracy: 0.99 - ETA: 1:29 - loss: 0.0285 - accuracy: 0.99 - ETA: 1:20 - loss: 0.0272 - accuracy: 0.99 - ETA: 1:12 - loss: 0.0324 - accuracy: 0.99 - ETA: 1:03 - loss: 0.0319 - accuracy: 0.99 - ETA: 55s - loss: 0.0316 - accuracy: 0.9941 - ETA: 47s - loss: 0.0303 - accuracy: 0.994 - ETA: 38s - loss: 0.0297 - accuracy: 0.994 - ETA: 30s - loss: 0.0292 - accuracy: 0.995 - ETA: 22s - loss: 0.0281 - accuracy: 0.995 - ETA: 13s - loss: 0.0282 - accuracy: 0.995 - ETA: 5s - loss: 0.0284 - accuracy: 0.995 - 204s 281ms/step - loss: 0.0279 - accuracy: 0.9959 - val_loss: 1.2360 - val_accuracy: 0.5746\n",
      "\n",
      "Epoch 00012: val_accuracy improved from 0.56906 to 0.57459, saving model to Model.hdf5\n",
      "Epoch 13/20\n",
      "724/724 [==============================] - ETA: 3:01 - loss: 0.0432 - accuracy: 0.96 - ETA: 2:54 - loss: 0.0284 - accuracy: 0.98 - ETA: 2:46 - loss: 0.0267 - accuracy: 0.98 - ETA: 2:40 - loss: 0.0241 - accuracy: 0.99 - ETA: 2:32 - loss: 0.0217 - accuracy: 0.99 - ETA: 2:22 - loss: 0.0196 - accuracy: 0.99 - ETA: 2:14 - loss: 0.0197 - accuracy: 0.99 - ETA: 2:05 - loss: 0.0206 - accuracy: 0.99 - ETA: 1:56 - loss: 0.0213 - accuracy: 0.99 - ETA: 1:47 - loss: 0.0295 - accuracy: 0.99 - ETA: 1:39 - loss: 0.0476 - accuracy: 0.98 - ETA: 1:30 - loss: 0.0455 - accuracy: 0.98 - ETA: 1:22 - loss: 0.0431 - accuracy: 0.99 - ETA: 1:14 - loss: 0.0409 - accuracy: 0.99 - ETA: 1:06 - loss: 0.0398 - accuracy: 0.99 - ETA: 57s - loss: 0.0383 - accuracy: 0.9922 - ETA: 49s - loss: 0.0371 - accuracy: 0.992 - ETA: 40s - loss: 0.0356 - accuracy: 0.993 - ETA: 31s - loss: 0.0343 - accuracy: 0.993 - ETA: 23s - loss: 0.0361 - accuracy: 0.992 - ETA: 14s - loss: 0.0350 - accuracy: 0.992 - ETA: 5s - loss: 0.0349 - accuracy: 0.992 - 218s 300ms/step - loss: 0.0343 - accuracy: 0.9931 - val_loss: 1.3546 - val_accuracy: 0.5083\n",
      "\n"
     ]
    },
    {
     "name": "stdout",
     "output_type": "stream",
     "text": [
      "Epoch 00013: val_accuracy did not improve from 0.57459\n",
      "Epoch 14/20\n",
      "724/724 [==============================] - ETA: 3:19 - loss: 0.0157 - accuracy: 1.00 - ETA: 3:10 - loss: 0.0131 - accuracy: 1.00 - ETA: 2:59 - loss: 0.0186 - accuracy: 1.00 - ETA: 2:50 - loss: 0.0202 - accuracy: 1.00 - ETA: 2:42 - loss: 0.0185 - accuracy: 1.00 - ETA: 2:33 - loss: 0.0170 - accuracy: 1.00 - ETA: 2:25 - loss: 0.0307 - accuracy: 0.99 - ETA: 2:15 - loss: 0.0278 - accuracy: 0.99 - ETA: 2:06 - loss: 0.0260 - accuracy: 0.99 - ETA: 1:57 - loss: 0.0250 - accuracy: 0.99 - ETA: 1:47 - loss: 0.0233 - accuracy: 0.99 - ETA: 1:38 - loss: 0.0220 - accuracy: 0.99 - ETA: 1:30 - loss: 0.0378 - accuracy: 0.99 - ETA: 1:21 - loss: 0.0367 - accuracy: 0.99 - ETA: 1:12 - loss: 0.0413 - accuracy: 0.99 - ETA: 1:03 - loss: 0.0413 - accuracy: 0.99 - ETA: 53s - loss: 0.0406 - accuracy: 0.9890 - ETA: 44s - loss: 0.0392 - accuracy: 0.989 - ETA: 34s - loss: 0.0376 - accuracy: 0.990 - ETA: 24s - loss: 0.0363 - accuracy: 0.990 - ETA: 15s - loss: 0.0354 - accuracy: 0.991 - ETA: 5s - loss: 0.0353 - accuracy: 0.991 - 231s 319ms/step - loss: 0.0344 - accuracy: 0.9917 - val_loss: 1.3531 - val_accuracy: 0.4972\n",
      "\n",
      "Epoch 00014: val_accuracy did not improve from 0.57459\n",
      "Epoch 15/20\n",
      "724/724 [==============================] - ETA: 3:23 - loss: 0.0083 - accuracy: 1.00 - ETA: 3:14 - loss: 0.0570 - accuracy: 0.98 - ETA: 3:02 - loss: 0.0498 - accuracy: 0.98 - ETA: 2:52 - loss: 0.0404 - accuracy: 0.99 - ETA: 2:42 - loss: 0.0384 - accuracy: 0.99 - ETA: 2:32 - loss: 0.0342 - accuracy: 0.99 - ETA: 2:24 - loss: 0.0312 - accuracy: 0.99 - ETA: 2:15 - loss: 0.0299 - accuracy: 0.99 - ETA: 2:06 - loss: 0.0280 - accuracy: 0.99 - ETA: 1:58 - loss: 0.0268 - accuracy: 0.99 - ETA: 1:49 - loss: 0.0308 - accuracy: 0.99 - ETA: 1:39 - loss: 0.0289 - accuracy: 0.99 - ETA: 1:30 - loss: 0.0272 - accuracy: 0.99 - ETA: 1:21 - loss: 0.0279 - accuracy: 0.99 - ETA: 1:11 - loss: 0.0267 - accuracy: 0.99 - ETA: 1:02 - loss: 0.0261 - accuracy: 0.99 - ETA: 53s - loss: 0.0262 - accuracy: 0.9945 - ETA: 43s - loss: 0.0253 - accuracy: 0.994 - ETA: 34s - loss: 0.0259 - accuracy: 0.995 - ETA: 24s - loss: 0.0272 - accuracy: 0.993 - ETA: 15s - loss: 0.0265 - accuracy: 0.994 - ETA: 5s - loss: 0.0358 - accuracy: 0.992 - 230s 317ms/step - loss: 0.0350 - accuracy: 0.9931 - val_loss: 1.3234 - val_accuracy: 0.5193\n",
      "\n",
      "Epoch 00015: val_accuracy did not improve from 0.57459\n",
      "Epoch 16/20\n",
      "724/724 [==============================] - ETA: 3:23 - loss: 0.0169 - accuracy: 1.00 - ETA: 3:09 - loss: 0.0706 - accuracy: 0.98 - ETA: 3:00 - loss: 0.0530 - accuracy: 0.98 - ETA: 2:59 - loss: 0.0477 - accuracy: 0.99 - ETA: 3:02 - loss: 0.0399 - accuracy: 0.99 - ETA: 2:58 - loss: 0.0347 - accuracy: 0.99 - ETA: 2:49 - loss: 0.0308 - accuracy: 0.99 - ETA: 2:39 - loss: 0.0283 - accuracy: 0.99 - ETA: 2:29 - loss: 0.0260 - accuracy: 0.99 - ETA: 2:19 - loss: 0.0238 - accuracy: 0.99 - ETA: 2:07 - loss: 0.0236 - accuracy: 0.99 - ETA: 1:55 - loss: 0.0226 - accuracy: 0.99 - ETA: 1:43 - loss: 0.0224 - accuracy: 0.99 - ETA: 1:32 - loss: 0.0219 - accuracy: 0.99 - ETA: 1:21 - loss: 0.0228 - accuracy: 0.99 - ETA: 1:10 - loss: 0.0243 - accuracy: 0.99 - ETA: 59s - loss: 0.0239 - accuracy: 0.9982 - ETA: 48s - loss: 0.0229 - accuracy: 0.998 - ETA: 37s - loss: 0.0268 - accuracy: 0.996 - ETA: 27s - loss: 0.0260 - accuracy: 0.996 - ETA: 16s - loss: 0.0253 - accuracy: 0.997 - ETA: 6s - loss: 0.0250 - accuracy: 0.997 - 246s 339ms/step - loss: 0.0254 - accuracy: 0.9972 - val_loss: 1.2626 - val_accuracy: 0.5525\n",
      "\n",
      "Epoch 00016: val_accuracy did not improve from 0.57459\n",
      "Epoch 17/20\n",
      "724/724 [==============================] - ETA: 3:16 - loss: 0.0389 - accuracy: 1.00 - ETA: 3:06 - loss: 0.0489 - accuracy: 0.98 - ETA: 2:57 - loss: 0.0365 - accuracy: 0.98 - ETA: 2:47 - loss: 0.0286 - accuracy: 0.99 - ETA: 2:38 - loss: 0.0280 - accuracy: 0.99 - ETA: 2:29 - loss: 0.0254 - accuracy: 0.99 - ETA: 2:20 - loss: 0.0233 - accuracy: 0.99 - ETA: 2:10 - loss: 0.0227 - accuracy: 0.99 - ETA: 2:01 - loss: 0.0227 - accuracy: 0.99 - ETA: 1:53 - loss: 0.0241 - accuracy: 0.99 - ETA: 1:44 - loss: 0.0228 - accuracy: 0.99 - ETA: 1:35 - loss: 0.0218 - accuracy: 0.99 - ETA: 1:26 - loss: 0.0261 - accuracy: 0.99 - ETA: 1:17 - loss: 0.0247 - accuracy: 0.99 - ETA: 1:08 - loss: 0.0237 - accuracy: 0.99 - ETA: 59s - loss: 0.0254 - accuracy: 0.9941 - ETA: 50s - loss: 0.0247 - accuracy: 0.994 - ETA: 41s - loss: 0.0238 - accuracy: 0.994 - ETA: 32s - loss: 0.0231 - accuracy: 0.995 - ETA: 23s - loss: 0.0225 - accuracy: 0.995 - ETA: 14s - loss: 0.0346 - accuracy: 0.992 - ETA: 5s - loss: 0.0342 - accuracy: 0.992 - 218s 302ms/step - loss: 0.0338 - accuracy: 0.9931 - val_loss: 1.2860 - val_accuracy: 0.5746\n",
      "\n",
      "Epoch 00017: val_accuracy did not improve from 0.57459\n",
      "Epoch 18/20\n",
      "724/724 [==============================] - ETA: 3:18 - loss: 0.0256 - accuracy: 1.00 - ETA: 3:07 - loss: 0.0303 - accuracy: 1.00 - ETA: 2:56 - loss: 0.0234 - accuracy: 1.00 - ETA: 2:47 - loss: 0.0187 - accuracy: 1.00 - ETA: 2:38 - loss: 0.0182 - accuracy: 1.00 - ETA: 2:29 - loss: 0.0166 - accuracy: 1.00 - ETA: 2:22 - loss: 0.0168 - accuracy: 1.00 - ETA: 2:12 - loss: 0.0187 - accuracy: 0.99 - ETA: 2:03 - loss: 0.0171 - accuracy: 0.99 - ETA: 1:54 - loss: 0.0174 - accuracy: 0.99 - ETA: 1:47 - loss: 0.0188 - accuracy: 0.99 - ETA: 1:38 - loss: 0.0191 - accuracy: 0.99 - ETA: 1:29 - loss: 0.0187 - accuracy: 0.99 - ETA: 1:20 - loss: 0.0178 - accuracy: 0.99 - ETA: 1:11 - loss: 0.0169 - accuracy: 0.99 - ETA: 1:01 - loss: 0.0161 - accuracy: 0.99 - ETA: 52s - loss: 0.0158 - accuracy: 0.9963 - ETA: 42s - loss: 0.0154 - accuracy: 0.996 - ETA: 33s - loss: 0.0149 - accuracy: 0.996 - ETA: 24s - loss: 0.0145 - accuracy: 0.996 - ETA: 14s - loss: 0.0178 - accuracy: 0.995 - ETA: 5s - loss: 0.0177 - accuracy: 0.995 - 225s 311ms/step - loss: 0.0173 - accuracy: 0.9959 - val_loss: 1.2963 - val_accuracy: 0.5967\n",
      "\n",
      "Epoch 00018: val_accuracy improved from 0.57459 to 0.59669, saving model to Model.hdf5\n",
      "Epoch 19/20\n",
      "724/724 [==============================] - ETA: 3:12 - loss: 0.0089 - accuracy: 1.00 - ETA: 3:04 - loss: 0.0059 - accuracy: 1.00 - ETA: 2:55 - loss: 0.0083 - accuracy: 1.00 - ETA: 2:47 - loss: 0.0130 - accuracy: 1.00 - ETA: 2:38 - loss: 0.0132 - accuracy: 1.00 - ETA: 2:28 - loss: 0.0121 - accuracy: 1.00 - ETA: 2:19 - loss: 0.0114 - accuracy: 1.00 - ETA: 2:11 - loss: 0.0104 - accuracy: 1.00 - ETA: 2:02 - loss: 0.0101 - accuracy: 1.00 - ETA: 1:53 - loss: 0.0108 - accuracy: 1.00 - ETA: 1:44 - loss: 0.0102 - accuracy: 1.00 - ETA: 1:35 - loss: 0.0099 - accuracy: 1.00 - ETA: 1:26 - loss: 0.0093 - accuracy: 1.00 - ETA: 1:17 - loss: 0.0154 - accuracy: 0.99 - ETA: 1:08 - loss: 0.0177 - accuracy: 0.99 - ETA: 59s - loss: 0.0167 - accuracy: 0.9961 - ETA: 50s - loss: 0.0161 - accuracy: 0.996 - ETA: 41s - loss: 0.0162 - accuracy: 0.996 - ETA: 32s - loss: 0.0161 - accuracy: 0.996 - ETA: 23s - loss: 0.0218 - accuracy: 0.995 - ETA: 14s - loss: 0.0212 - accuracy: 0.995 - ETA: 5s - loss: 0.0211 - accuracy: 0.995 - 220s 304ms/step - loss: 0.0208 - accuracy: 0.9959 - val_loss: 1.5412 - val_accuracy: 0.4751\n",
      "\n",
      "Epoch 00019: val_accuracy did not improve from 0.59669\n",
      "Epoch 20/20\n",
      "724/724 [==============================] - ETA: 3:30 - loss: 0.0092 - accuracy: 1.00 - ETA: 3:16 - loss: 0.0054 - accuracy: 1.00 - ETA: 3:06 - loss: 0.0403 - accuracy: 0.98 - ETA: 2:56 - loss: 0.0350 - accuracy: 0.99 - ETA: 2:49 - loss: 0.0313 - accuracy: 0.99 - ETA: 2:40 - loss: 0.0269 - accuracy: 0.99 - ETA: 2:31 - loss: 0.0243 - accuracy: 0.99 - ETA: 2:21 - loss: 0.0261 - accuracy: 0.99 - ETA: 2:11 - loss: 0.0316 - accuracy: 0.98 - ETA: 2:04 - loss: 0.0299 - accuracy: 0.99 - ETA: 1:57 - loss: 0.0278 - accuracy: 0.99 - ETA: 1:51 - loss: 0.0297 - accuracy: 0.98 - ETA: 1:43 - loss: 0.0291 - accuracy: 0.99 - ETA: 1:33 - loss: 0.0304 - accuracy: 0.98 - ETA: 1:23 - loss: 0.0286 - accuracy: 0.98 - ETA: 1:13 - loss: 0.0271 - accuracy: 0.99 - ETA: 1:02 - loss: 0.0260 - accuracy: 0.99 - ETA: 51s - loss: 0.0247 - accuracy: 0.9913 - ETA: 40s - loss: 0.0239 - accuracy: 0.991 - ETA: 28s - loss: 0.0229 - accuracy: 0.992 - ETA: 17s - loss: 0.0221 - accuracy: 0.992 - ETA: 6s - loss: 0.0213 - accuracy: 0.992 - 264s 365ms/step - loss: 0.0209 - accuracy: 0.9931 - val_loss: 1.4608 - val_accuracy: 0.5138\n"
     ]
    },
    {
     "name": "stdout",
     "output_type": "stream",
     "text": [
      "\n",
      "Epoch 00020: val_accuracy did not improve from 0.59669\n"
     ]
    }
   ],
   "source": [
    "history = model.fit(x_train, y_train,batch_size=batch_size,epochs=epochs,validation_data=(x_test, y_test),callbacks=[checkpoint]) # Fit for the current dataset\n",
    "model.load_weights(\"Model.hdf5\")\n",
    "answer = model.predict(x_test) # Get prediction output"
   ]
  },
  {
   "cell_type": "code",
   "execution_count": null,
   "metadata": {},
   "outputs": [],
   "source": [
    "# model.load_weights(\"Model.hdf5\")\n",
    "# testCase = tokenizer.texts_to_sequences((np.array(documents))[[0,1,2,3,4,5,6,7,8,9,10]])\n",
    "# testCase = pad_sequences(testCase, padding='post', maxlen=maxlen)\n",
    "# answer = model.predict(testCase) # Get prediction output\n",
    "# print(encoder.inverse_transform(answer.argmax(axis=-1)))"
   ]
  },
  {
   "cell_type": "code",
   "execution_count": 36,
   "metadata": {},
   "outputs": [
    {
     "ename": "ValueError",
     "evalue": "Found input variables with inconsistent numbers of samples: [11, 181]",
     "output_type": "error",
     "traceback": [
      "\u001b[1;31m---------------------------------------------------------------------------\u001b[0m",
      "\u001b[1;31mValueError\u001b[0m                                Traceback (most recent call last)",
      "\u001b[1;32m<ipython-input-36-f0c86615d0e0>\u001b[0m in \u001b[0;36m<module>\u001b[1;34m\u001b[0m\n\u001b[1;32m----> 1\u001b[1;33m \u001b[0mprint\u001b[0m\u001b[1;33m(\u001b[0m\u001b[1;34m\"Precision score micro: \"\u001b[0m\u001b[1;33m,\u001b[0m\u001b[0mprecision_score\u001b[0m\u001b[1;33m(\u001b[0m\u001b[0manswer\u001b[0m\u001b[1;33m.\u001b[0m\u001b[0margmax\u001b[0m\u001b[1;33m(\u001b[0m\u001b[0maxis\u001b[0m\u001b[1;33m=\u001b[0m\u001b[1;33m-\u001b[0m\u001b[1;36m1\u001b[0m\u001b[1;33m)\u001b[0m\u001b[1;33m,\u001b[0m\u001b[0my_test\u001b[0m\u001b[1;33m.\u001b[0m\u001b[0margmax\u001b[0m\u001b[1;33m(\u001b[0m\u001b[0maxis\u001b[0m\u001b[1;33m=\u001b[0m\u001b[1;33m-\u001b[0m\u001b[1;36m1\u001b[0m\u001b[1;33m)\u001b[0m\u001b[1;33m,\u001b[0m\u001b[0maverage\u001b[0m\u001b[1;33m=\u001b[0m\u001b[1;34m\"micro\"\u001b[0m\u001b[1;33m)\u001b[0m\u001b[1;33m)\u001b[0m \u001b[1;31m# Print micro precision for final class value\u001b[0m\u001b[1;33m\u001b[0m\u001b[1;33m\u001b[0m\u001b[0m\n\u001b[0m\u001b[0;32m      2\u001b[0m \u001b[0mprint\u001b[0m\u001b[1;33m(\u001b[0m\u001b[1;34m\"Precision score macro: \"\u001b[0m\u001b[1;33m,\u001b[0m\u001b[0mprecision_score\u001b[0m\u001b[1;33m(\u001b[0m\u001b[0manswer\u001b[0m\u001b[1;33m.\u001b[0m\u001b[0margmax\u001b[0m\u001b[1;33m(\u001b[0m\u001b[0maxis\u001b[0m\u001b[1;33m=\u001b[0m\u001b[1;33m-\u001b[0m\u001b[1;36m1\u001b[0m\u001b[1;33m)\u001b[0m\u001b[1;33m,\u001b[0m\u001b[0my_test\u001b[0m\u001b[1;33m.\u001b[0m\u001b[0margmax\u001b[0m\u001b[1;33m(\u001b[0m\u001b[0maxis\u001b[0m\u001b[1;33m=\u001b[0m\u001b[1;33m-\u001b[0m\u001b[1;36m1\u001b[0m\u001b[1;33m)\u001b[0m\u001b[1;33m,\u001b[0m\u001b[0maverage\u001b[0m\u001b[1;33m=\u001b[0m\u001b[1;34m\"macro\"\u001b[0m\u001b[1;33m)\u001b[0m\u001b[1;33m)\u001b[0m \u001b[1;31m# Print macro precision for final class value\u001b[0m\u001b[1;33m\u001b[0m\u001b[1;33m\u001b[0m\u001b[0m\n",
      "\u001b[1;32m~\\Anaconda3\\lib\\site-packages\\sklearn\\metrics\\classification.py\u001b[0m in \u001b[0;36mprecision_score\u001b[1;34m(y_true, y_pred, labels, pos_label, average, sample_weight)\u001b[0m\n\u001b[0;32m   1567\u001b[0m                                                  \u001b[0maverage\u001b[0m\u001b[1;33m=\u001b[0m\u001b[0maverage\u001b[0m\u001b[1;33m,\u001b[0m\u001b[1;33m\u001b[0m\u001b[1;33m\u001b[0m\u001b[0m\n\u001b[0;32m   1568\u001b[0m                                                  \u001b[0mwarn_for\u001b[0m\u001b[1;33m=\u001b[0m\u001b[1;33m(\u001b[0m\u001b[1;34m'precision'\u001b[0m\u001b[1;33m,\u001b[0m\u001b[1;33m)\u001b[0m\u001b[1;33m,\u001b[0m\u001b[1;33m\u001b[0m\u001b[1;33m\u001b[0m\u001b[0m\n\u001b[1;32m-> 1569\u001b[1;33m                                                  sample_weight=sample_weight)\n\u001b[0m\u001b[0;32m   1570\u001b[0m     \u001b[1;32mreturn\u001b[0m \u001b[0mp\u001b[0m\u001b[1;33m\u001b[0m\u001b[1;33m\u001b[0m\u001b[0m\n\u001b[0;32m   1571\u001b[0m \u001b[1;33m\u001b[0m\u001b[0m\n",
      "\u001b[1;32m~\\Anaconda3\\lib\\site-packages\\sklearn\\metrics\\classification.py\u001b[0m in \u001b[0;36mprecision_recall_fscore_support\u001b[1;34m(y_true, y_pred, beta, labels, pos_label, average, warn_for, sample_weight)\u001b[0m\n\u001b[0;32m   1413\u001b[0m         \u001b[1;32mraise\u001b[0m \u001b[0mValueError\u001b[0m\u001b[1;33m(\u001b[0m\u001b[1;34m\"beta should be >0 in the F-beta score\"\u001b[0m\u001b[1;33m)\u001b[0m\u001b[1;33m\u001b[0m\u001b[1;33m\u001b[0m\u001b[0m\n\u001b[0;32m   1414\u001b[0m     labels = _check_set_wise_labels(y_true, y_pred, average, labels,\n\u001b[1;32m-> 1415\u001b[1;33m                                     pos_label)\n\u001b[0m\u001b[0;32m   1416\u001b[0m \u001b[1;33m\u001b[0m\u001b[0m\n\u001b[0;32m   1417\u001b[0m     \u001b[1;31m# Calculate tp_sum, pred_sum, true_sum ###\u001b[0m\u001b[1;33m\u001b[0m\u001b[1;33m\u001b[0m\u001b[1;33m\u001b[0m\u001b[0m\n",
      "\u001b[1;32m~\\Anaconda3\\lib\\site-packages\\sklearn\\metrics\\classification.py\u001b[0m in \u001b[0;36m_check_set_wise_labels\u001b[1;34m(y_true, y_pred, average, labels, pos_label)\u001b[0m\n\u001b[0;32m   1237\u001b[0m                          str(average_options))\n\u001b[0;32m   1238\u001b[0m \u001b[1;33m\u001b[0m\u001b[0m\n\u001b[1;32m-> 1239\u001b[1;33m     \u001b[0my_type\u001b[0m\u001b[1;33m,\u001b[0m \u001b[0my_true\u001b[0m\u001b[1;33m,\u001b[0m \u001b[0my_pred\u001b[0m \u001b[1;33m=\u001b[0m \u001b[0m_check_targets\u001b[0m\u001b[1;33m(\u001b[0m\u001b[0my_true\u001b[0m\u001b[1;33m,\u001b[0m \u001b[0my_pred\u001b[0m\u001b[1;33m)\u001b[0m\u001b[1;33m\u001b[0m\u001b[1;33m\u001b[0m\u001b[0m\n\u001b[0m\u001b[0;32m   1240\u001b[0m     \u001b[0mpresent_labels\u001b[0m \u001b[1;33m=\u001b[0m \u001b[0munique_labels\u001b[0m\u001b[1;33m(\u001b[0m\u001b[0my_true\u001b[0m\u001b[1;33m,\u001b[0m \u001b[0my_pred\u001b[0m\u001b[1;33m)\u001b[0m\u001b[1;33m\u001b[0m\u001b[1;33m\u001b[0m\u001b[0m\n\u001b[0;32m   1241\u001b[0m     \u001b[1;32mif\u001b[0m \u001b[0maverage\u001b[0m \u001b[1;33m==\u001b[0m \u001b[1;34m'binary'\u001b[0m\u001b[1;33m:\u001b[0m\u001b[1;33m\u001b[0m\u001b[1;33m\u001b[0m\u001b[0m\n",
      "\u001b[1;32m~\\Anaconda3\\lib\\site-packages\\sklearn\\metrics\\classification.py\u001b[0m in \u001b[0;36m_check_targets\u001b[1;34m(y_true, y_pred)\u001b[0m\n\u001b[0;32m     69\u001b[0m     \u001b[0my_pred\u001b[0m \u001b[1;33m:\u001b[0m \u001b[0marray\u001b[0m \u001b[1;32mor\u001b[0m \u001b[0mindicator\u001b[0m \u001b[0mmatrix\u001b[0m\u001b[1;33m\u001b[0m\u001b[1;33m\u001b[0m\u001b[0m\n\u001b[0;32m     70\u001b[0m     \"\"\"\n\u001b[1;32m---> 71\u001b[1;33m     \u001b[0mcheck_consistent_length\u001b[0m\u001b[1;33m(\u001b[0m\u001b[0my_true\u001b[0m\u001b[1;33m,\u001b[0m \u001b[0my_pred\u001b[0m\u001b[1;33m)\u001b[0m\u001b[1;33m\u001b[0m\u001b[1;33m\u001b[0m\u001b[0m\n\u001b[0m\u001b[0;32m     72\u001b[0m     \u001b[0mtype_true\u001b[0m \u001b[1;33m=\u001b[0m \u001b[0mtype_of_target\u001b[0m\u001b[1;33m(\u001b[0m\u001b[0my_true\u001b[0m\u001b[1;33m)\u001b[0m\u001b[1;33m\u001b[0m\u001b[1;33m\u001b[0m\u001b[0m\n\u001b[0;32m     73\u001b[0m     \u001b[0mtype_pred\u001b[0m \u001b[1;33m=\u001b[0m \u001b[0mtype_of_target\u001b[0m\u001b[1;33m(\u001b[0m\u001b[0my_pred\u001b[0m\u001b[1;33m)\u001b[0m\u001b[1;33m\u001b[0m\u001b[1;33m\u001b[0m\u001b[0m\n",
      "\u001b[1;32m~\\Anaconda3\\lib\\site-packages\\sklearn\\utils\\validation.py\u001b[0m in \u001b[0;36mcheck_consistent_length\u001b[1;34m(*arrays)\u001b[0m\n\u001b[0;32m    203\u001b[0m     \u001b[1;32mif\u001b[0m \u001b[0mlen\u001b[0m\u001b[1;33m(\u001b[0m\u001b[0muniques\u001b[0m\u001b[1;33m)\u001b[0m \u001b[1;33m>\u001b[0m \u001b[1;36m1\u001b[0m\u001b[1;33m:\u001b[0m\u001b[1;33m\u001b[0m\u001b[1;33m\u001b[0m\u001b[0m\n\u001b[0;32m    204\u001b[0m         raise ValueError(\"Found input variables with inconsistent numbers of\"\n\u001b[1;32m--> 205\u001b[1;33m                          \" samples: %r\" % [int(l) for l in lengths])\n\u001b[0m\u001b[0;32m    206\u001b[0m \u001b[1;33m\u001b[0m\u001b[0m\n\u001b[0;32m    207\u001b[0m \u001b[1;33m\u001b[0m\u001b[0m\n",
      "\u001b[1;31mValueError\u001b[0m: Found input variables with inconsistent numbers of samples: [11, 181]"
     ]
    }
   ],
   "source": [
    "print(\"Precision score micro: \",precision_score(answer.argmax(axis=-1),y_test.argmax(axis=-1),average=\"micro\")) # Print micro precision for final class value\n",
    "print(\"Precision score macro: \",precision_score(answer.argmax(axis=-1),y_test.argmax(axis=-1),average=\"macro\")) # Print macro precision for final class value"
   ]
  },
  {
   "cell_type": "code",
   "execution_count": null,
   "metadata": {},
   "outputs": [],
   "source": [
    "print(\"Recall score micro : \",recall_score(answer.argmax(axis=-1),y_test.argmax(axis=-1),average=\"micro\")) # Print micro recall for final class value\n",
    "print(\"Recall score macro : \",recall_score(answer.argmax(axis=-1),y_test.argmax(axis=-1),average=\"macro\")) # Print macro recall for final class value"
   ]
  },
  {
   "cell_type": "code",
   "execution_count": null,
   "metadata": {},
   "outputs": [],
   "source": [
    "print(\"F1 score micro : \",f1_score(answer.argmax(axis=-1),y_test.argmax(axis=-1),average=\"micro\")) # Print micro f1_score for final class value\n",
    "print(\"F1 score macro : \",f1_score(answer.argmax(axis=-1),y_test.argmax(axis=-1),average=\"macro\")) # Print macro f1_score for final class value"
   ]
  },
  {
   "cell_type": "code",
   "execution_count": null,
   "metadata": {},
   "outputs": [],
   "source": [
    "confusion_matrix(answer.argmax(axis=-1),y_test.argmax(axis=-1))"
   ]
  },
  {
   "cell_type": "code",
   "execution_count": 20,
   "metadata": {},
   "outputs": [
    {
     "data": {
      "image/png": "[encoded data removed]",
      "text/plain": [
       "<Figure size 432x288 with 1 Axes>"
      ]
     },
     "metadata": {
      "needs_background": "light"
     },
     "output_type": "display_data"
    }
   ],
   "source": [
    "fig = go.Figure()\n",
    "fig.add_trace(go.Scatter(x=list(range(20)),y=history.history[\"val_accuracy\"],mode=\"markers+lines\"))\n",
    "\n",
    "# plt.plot(list(range(20)),history.history[\"val_accuracy\"],label=\"validation_accuracy\")\n",
    "# plt.plot(list(range(20)),history.history[\"accuracy\"],label=\"Training accuracy\")\n",
    "# plt.plot(list(range(20)),history.history[\"loss\"],label=\"Training loss\")\n",
    "# plt.plot(list(range(20)),history.history[\"val_loss\"],label=\"Training loss\")\n",
    "# plt.legend()\n",
    "# plt.title(\"epoch vs accuracy\")\n",
    "# plt.show()"
   ]
  },
  {
   "cell_type": "code",
   "execution_count": null,
   "metadata": {
    "scrolled": true
   },
   "outputs": [],
   "source": [
    "# Code to print 10 fold cross validation \n",
    "kfold = StratifiedKFold(n_splits=10, shuffle=True)\n",
    "finalAccuracy = []\n",
    "finalPrecisionMacro = []\n",
    "finalPrecisionMicro = []\n",
    "finalRecallMacro = []\n",
    "finalRecallMicro = []\n",
    "finalF1ScoreMacro = []\n",
    "finalF1ScoreMicro = []\n",
    "count = 0\n",
    "for train,test in kfold.split(documents,oldy):\n",
    "    encodedY = encoder.transform(oldy) # Transform label \n",
    "    y = np_utils.to_categorical(encodedY) # Get categorial label here 1X3 as 3 labels given\n",
    "    tokenizer = Tokenizer(num_words=max_features) # Create tokenizer \n",
    "    tokenizer.fit_on_texts(np.array(documents)[train]) # Fit train data to tokenizer\n",
    "    x_train = tokenizer.texts_to_sequences(np.array(documents)[train]) # train_x data with tokeinzer output\n",
    "    x_test = tokenizer.texts_to_sequences(np.array(documents)[test]) # test_x data with tokeinzer output\n",
    "    x_train = pad_sequences(x_train, padding='post', maxlen=maxlen) # Pad sequence so that length of document remains same -- remove extra data\n",
    "    x_test = pad_sequences(x_test, padding='post', maxlen=maxlen)  # Pad sequence so that length of document remains same -- remove extra data\n",
    "    checkpoint = ModelCheckpoint(\"Model.hdf5\", monitor='val_accuracy', verbose=1, save_best_only=True, mode='max')\n",
    "    model = Model(inputs=inputLayer, outputs=activationSoftmax) # Add input and output layer to create the network\n",
    "    model.compile(loss='categorical_crossentropy',optimizer='adam',metrics=['accuracy']) # Compute with adamic adar and categorial cross entropy\n",
    "    model.fit(x_train, y[train],batch_size=batch_size,epochs=10,validation_data=(x_test, y[test]),callbacks=[checkpoint]) # Fit for the current dataset\n",
    "    model.load_weights(\"Model.hdf5\")\n",
    "    answer = model.predict(x_test) \n",
    "\n",
    "    count+=1\n",
    "    finalAccuracy += [accuracy_score(answer.argmax(axis=-1),y[test].argmax(axis=-1))]\n",
    "    finalPrecisionMacro += [precision_score(answer.argmax(axis=-1),y[test].argmax(axis=-1),average=\"macro\")]\n",
    "    finalPrecisionMicro += [precision_score(answer.argmax(axis=-1),y[test].argmax(axis=-1),average=\"micro\")]\n",
    "    finalRecallMicro += [recall_score(answer.argmax(axis=-1),y[test].argmax(axis=-1),average=\"micro\")]\n",
    "    finalRecallMacro += [recall_score(answer.argmax(axis=-1),y[test].argmax(axis=-1),average=\"macro\")]\n",
    "    finalF1ScoreMicro += [f1_score(answer.argmax(axis=-1),y[test].argmax(axis=-1),average=\"micro\")]\n",
    "    finalF1ScoreMacro += [f1_score(answer.argmax(axis=-1),y[test].argmax(axis=-1),average=\"macro\")]\n",
    "\n",
    "    print(sum(finalAccuracy)/count,sum(finalPrecisionMacro)/count,sum(finalPrecisionMicro)/count,sum(finalRecallMicro)/count,sum(finalRecallMacro)/count,sum(finalF1ScoreMicro)/count,sum(finalF1ScoreMacro)/count)"
   ]
  }
 ],
 "metadata": {
  "kernelspec": {
   "display_name": "Python 3",
   "language": "python",
   "name": "python3"
  },
  "language_info": {
   "codemirror_mode": {
    "name": "ipython",
    "version": 3
   },
   "file_extension": ".py",
   "mimetype": "text/x-python",
   "name": "python",
   "nbconvert_exporter": "python",
   "pygments_lexer": "ipython3",
   "version": "3.7.4"
  }
 },
 "nbformat": 4,
 "nbformat_minor": 2
}
