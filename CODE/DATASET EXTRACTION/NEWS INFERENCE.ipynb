{
 "cells": [
  {
   "cell_type": "code",
   "execution_count": 51,
   "metadata": {},
   "outputs": [],
   "source": [
    "import glob\n",
    "import string\n",
    "from nltk import word_tokenize \n",
    "from nltk.corpus import stopwords"
   ]
  },
  {
   "cell_type": "code",
   "execution_count": 52,
   "metadata": {},
   "outputs": [],
   "source": [
    "stop = set(stopwords.words('english'))"
   ]
  },
  {
   "cell_type": "code",
   "execution_count": 35,
   "metadata": {},
   "outputs": [],
   "source": [
    "urlFile = open(\"url\",\"r\").read()"
   ]
  },
  {
   "cell_type": "code",
   "execution_count": 36,
   "metadata": {},
   "outputs": [],
   "source": [
    "sources = []\n",
    "sourceCount = {}\n",
    "for url in urlFile.split(\"\\n\"):\n",
    "    websiteName = (url.split(\"/\"))[2]\n",
    "    sources += [websiteName]\n",
    "    if websiteName in sourceCount:\n",
    "        sourceCount[websiteName] += 1\n",
    "    else:\n",
    "        sourceCount[websiteName] = 1 \n",
    "        \n",
    "    "
   ]
  },
  {
   "cell_type": "code",
   "execution_count": 37,
   "metadata": {},
   "outputs": [
    {
     "name": "stdout",
     "output_type": "stream",
     "text": [
      "Number of sources for news :  139\n"
     ]
    }
   ],
   "source": [
    "print(\"Number of sources for news : \",len(set(sources)))"
   ]
  },
  {
   "cell_type": "code",
   "execution_count": 64,
   "metadata": {},
   "outputs": [
    {
     "name": "stdout",
     "output_type": "stream",
     "text": [
      "www.thehindu.com indianexpress.com www.firstpost.com timesofindia.indiatimes.com www.moneycontrol.com www.hindustantimes.com economictimes.indiatimes.com www.ndtv.com www.news18.com deadline.com\n"
     ]
    }
   ],
   "source": [
    "print(*[j[0] for j in sorted(sourceCount.items(),key = lambda x:x[1],reverse=True)][:10])"
   ]
  },
  {
   "cell_type": "code",
   "execution_count": 39,
   "metadata": {},
   "outputs": [
    {
     "name": "stdout",
     "output_type": "stream",
     "text": [
      "Data date range : 19/1/2020 to 17/2/2020\n"
     ]
    }
   ],
   "source": [
    "print(\"Data date range : 19/1/2020 to 17/2/2020\")"
   ]
  },
  {
   "cell_type": "code",
   "execution_count": 66,
   "metadata": {},
   "outputs": [],
   "source": [
    "articles = glob.glob(\"NewsArticle/*\")\n",
    "data = []\n",
    "for files in articles:\n",
    "    data += word_tokenize(open(files,\"r\",encoding = \"utf8\").read())"
   ]
  },
  {
   "cell_type": "code",
   "execution_count": 67,
   "metadata": {},
   "outputs": [
    {
     "name": "stdout",
     "output_type": "stream",
     "text": [
      "553.7583449235049\n"
     ]
    }
   ],
   "source": [
    "print(len(data)/2876)\n",
    "dataDict = {}\n",
    "for d in data:\n",
    "    d = d.lower()\n",
    "    if d not in stop and d not in string.punctuation:\n",
    "        if d in dataDict:\n",
    "            dataDict[d] += 1\n",
    "        else:\n",
    "            dataDict[d] = 1"
   ]
  },
  {
   "cell_type": "code",
   "execution_count": 63,
   "metadata": {},
   "outputs": [
    {
     "name": "stdout",
     "output_type": "stream",
     "text": [
      "[('said', 11631), ('’', 10540), ('“', 9557), ('”', 9424), ('caa', 6718), ('``', 5540), (\"''\", 5374), ('delhi', 5051), ('government', 4914), ('citizenship', 4825), ('people', 4767), ('india', 4732), ('bjp', 4661), ('police', 4371), ('also', 4365), ('minister', 4059), ('act', 3486), ('party', 3356), (\"'s\", 3247), ('protest', 3028), ('protests', 3015), ('indian', 3012), ('state', 2823), ('nrc', 2773), ('country', 2743), ('national', 2734), ('shaheen', 2696), ('bagh', 2667), ('law', 2615), ('amendment', 2545)]\n"
     ]
    }
   ],
   "source": [
    "print(sorted(dataDict.items(),key=lambda x:x[1],reverse = True)[:30])"
   ]
  },
  {
   "cell_type": "code",
   "execution_count": null,
   "metadata": {},
   "outputs": [],
   "source": []
  }
 ],
 "metadata": {
  "kernelspec": {
   "display_name": "Python 3",
   "language": "python",
   "name": "python3"
  },
  "language_info": {
   "codemirror_mode": {
    "name": "ipython",
    "version": 3
   },
   "file_extension": ".py",
   "mimetype": "text/x-python",
   "name": "python",
   "nbconvert_exporter": "python",
   "pygments_lexer": "ipython3",
   "version": "3.7.4"
  }
 },
 "nbformat": 4,
 "nbformat_minor": 2
}
