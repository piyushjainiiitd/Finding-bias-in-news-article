{
 "cells": [
  {
   "cell_type": "code",
   "execution_count": 71,
   "metadata": {},
   "outputs": [],
   "source": [
    "# Used news api to extract news URL \n",
    "from newsapi import NewsApiClient\n",
    "from newspaper import Article\n",
    "import time\n",
    "import datetime\n",
    "from tqdm import tqdm as tqdm\n",
    "import random"
   ]
  },
  {
   "cell_type": "code",
   "execution_count": 72,
   "metadata": {},
   "outputs": [],
   "source": [
    "newsapi = NewsApiClient(api_key='d4a46de48de7449a974bd7c8fb2d87af') # Connect to news api.org"
   ]
  },
  {
   "cell_type": "code",
   "execution_count": 73,
   "metadata": {},
   "outputs": [
    {
     "data": {
      "application/vnd.jupyter.widget-view+json": {
       "model_id": "aa255337c6b84e85bcb2cb44a36031bb",
       "version_major": 2,
       "version_minor": 0
      },
      "text/plain": [
       "HBox(children=(IntProgress(value=0, max=30), HTML(value='')))"
      ]
     },
     "metadata": {},
     "output_type": "display_data"
    },
    {
     "name": "stdout",
     "output_type": "stream",
     "text": [
      "\n"
     ]
    }
   ],
   "source": [
    "url = [] # Url list\n",
    "today = datetime.date.today() # GEt today date\n",
    "for source in tqdm(range(30)): # Iterate over last 30 days as free version only support these date range\n",
    "    for p in range(1,6): # Maximum 5 pages or 100 articles a day\n",
    "        all_articles = newsapi.get_everything(q='caa',language='en',sort_by='relevancy',page=p,from_param=str(today),to=str(today)) # Get News article infromation 20 per iteration\n",
    "        for i in all_articles['articles']: # For all 20 articles\n",
    "            url+=[i['url']] # Extract article url\n",
    "    today -= datetime.timedelta(days=1) # Decrease date by 1 day"
   ]
  },
  {
   "cell_type": "code",
   "execution_count": 74,
   "metadata": {},
   "outputs": [],
   "source": [
    "url.sort() # Sort the url by name \n",
    "random.shuffle(url) # Shuffle so that one website is not hit consecutively"
   ]
  },
  {
   "cell_type": "code",
   "execution_count": 78,
   "metadata": {},
   "outputs": [
    {
     "name": "stderr",
     "output_type": "stream",
     "text": [
      "From cffi callback <function _verify_callback at 0x000001950CA9D4C8>:\n",
      "Traceback (most recent call last):\n",
      "  File \"C:\\Users\\ASUS\\Anaconda3\\lib\\site-packages\\OpenSSL\\SSL.py\", line 306, in wrapper\n",
      "    @wraps(callback)\n",
      "KeyboardInterrupt\n"
     ]
    }
   ],
   "source": [
    "article = [] # For article \n",
    "count = 0 # Get count\n",
    "for index,value in enumerate(url):\n",
    "    try:\n",
    "        a = Article(value) # Load article url\n",
    "        a.download() # Download article\n",
    "        a.parse() # Parse so that http tags are differentiated from text of article\n",
    "        article.append(a.text) # append article tag\n",
    "        time.sleep(10) # Sleep for 10 second before other article to avoid getting blocked\n",
    "        open(\"NewsArticle/\"+str(index),\"w\",encoding=\"utf8\").write(a.text) # Store news article in NewsArticle Folder\n",
    "    except:\n",
    "        pass # Pass this iteration \n",
    "    "
   ]
  },
  {
   "cell_type": "code",
   "execution_count": null,
   "metadata": {},
   "outputs": [],
   "source": [
    "open(\"url\",\"w\",encoding = \"utf8\").write(\"\\n\".join(url)) # Append url "
   ]
  }
 ],
 "metadata": {
  "kernelspec": {
   "display_name": "Python 3",
   "language": "python",
   "name": "python3"
  },
  "language_info": {
   "codemirror_mode": {
    "name": "ipython",
    "version": 3
   },
   "file_extension": ".py",
   "mimetype": "text/x-python",
   "name": "python",
   "nbconvert_exporter": "python",
   "pygments_lexer": "ipython3",
   "version": "3.7.4"
  }
 },
 "nbformat": 4,
 "nbformat_minor": 2
}
